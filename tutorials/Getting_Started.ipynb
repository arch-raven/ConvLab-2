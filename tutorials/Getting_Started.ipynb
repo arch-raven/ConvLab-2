{
 "cells": [
  {
   "cell_type": "markdown",
   "metadata": {
    "colab_type": "text",
    "id": "x3qZ8fi1FAWS"
   },
   "source": [
    "# Getting Started\n",
    "\n",
    "In this tutorial, you will know how to\n",
    "- use the models in **ConvLab-2** to build a dialog agent.\n",
    "- build a simulator to chat with the agent and evaluate the performance.\n",
    "- try different module combinations.\n",
    "- use analysis tool to diagnose your system.\n",
    "\n",
    "Let's get started!"
   ]
  },
  {
   "cell_type": "markdown",
   "metadata": {
    "colab_type": "text",
    "id": "NvXG3UyBFFS3"
   },
   "source": [
    "## Environment setup\n",
    "Run the command below to install ConvLab-2. Then restart the notebook and skip this commend."
   ]
  },
  {
   "cell_type": "code",
   "execution_count": 0,
   "metadata": {
    "colab": {},
    "colab_type": "code",
    "id": "qPqTs6EP0wxO"
   },
   "outputs": [],
   "source": [
    "# first install ConvLab-2 and restart the notebook\n",
    "! git clone https://github.com/thu-coai/ConvLab-2.git && cd ConvLab-2 && pip install -e ."
   ]
  },
  {
   "cell_type": "markdown",
   "metadata": {
    "colab_type": "text",
    "id": "1TPEtcEpFiCU"
   },
   "source": [
    "## build an agent\n",
    "\n",
    "We use the models adapted on [Multiwoz](https://www.aclweb.org/anthology/D18-1547)  dataset to build our agent. This pipeline agent consists of NLU, DST, Policy and NLG modules.\n",
    "\n",
    "First, import some models:"
   ]
  },
  {
   "cell_type": "code",
   "execution_count": 1,
   "metadata": {
    "colab": {},
    "colab_type": "code",
    "id": "OqzFlmCBCXEV"
   },
   "outputs": [],
   "source": [
    "# common import: convlab2.$module.$model.$dataset\n",
    "from convlab2.nlu.jointBERT.multiwoz import BERTNLU\n",
    "from convlab2.nlu.milu.multiwoz import MILU\n",
    "from convlab2.dst.rule.multiwoz import RuleDST\n",
    "from convlab2.policy.rule.multiwoz import RulePolicy\n",
    "from convlab2.nlg.template.multiwoz import TemplateNLG\n",
    "from convlab2.dialog_agent import PipelineAgent, BiSession\n",
    "from convlab2.evaluator.multiwoz_eval import MultiWozEvaluator\n",
    "from pprint import pprint\n",
    "import random\n",
    "import numpy as np\n",
    "import torch"
   ]
  },
  {
   "cell_type": "markdown",
   "metadata": {
    "colab_type": "text",
    "id": "N-18Q6YKGEzY"
   },
   "source": [
    "Then, create the models and build an agent:"
   ]
  },
  {
   "cell_type": "code",
   "execution_count": 2,
   "metadata": {
    "colab": {},
    "colab_type": "code",
    "id": "-GPQgUD6GjHv"
   },
   "outputs": [
    {
     "name": "stdout",
     "output_type": "stream",
     "text": [
      "intent num: 137\n",
      "tag num: 331\n",
      "Load from /home/archraven/Documents/GitHub/ConvLab-2/convlab2/nlu/jointBERT/multiwoz/output/all_context/pytorch_model.bin\n",
      "bert-base-uncased\n"
     ]
    },
    {
     "data": {
      "application/vnd.jupyter.widget-view+json": {
       "model_id": "41e7436bd5bd4185b470c9ee3f4e144c",
       "version_major": 2,
       "version_minor": 0
      },
      "text/plain": [
       "HBox(children=(HTML(value='Downloading'), FloatProgress(value=0.0, max=433.0), HTML(value='')))"
      ]
     },
     "metadata": {},
     "output_type": "display_data"
    },
    {
     "name": "stdout",
     "output_type": "stream",
     "text": [
      "\n"
     ]
    },
    {
     "data": {
      "application/vnd.jupyter.widget-view+json": {
       "model_id": "06053918fcbf4c7ea7e33f2747c3b2a3",
       "version_major": 2,
       "version_minor": 0
      },
      "text/plain": [
       "HBox(children=(HTML(value='Downloading'), FloatProgress(value=0.0, max=440473133.0), HTML(value='')))"
      ]
     },
     "metadata": {},
     "output_type": "display_data"
    },
    {
     "name": "stdout",
     "output_type": "stream",
     "text": [
      "\n",
      "BERTNLU loaded\n"
     ]
    }
   ],
   "source": [
    "# go to README.md of each model for more information\n",
    "# BERT nlu\n",
    "sys_nlu = BERTNLU()\n",
    "# simple rule DST\n",
    "sys_dst = RuleDST()\n",
    "# rule policy\n",
    "sys_policy = RulePolicy()\n",
    "# template NLG\n",
    "sys_nlg = TemplateNLG(is_user=False)\n",
    "# assemble\n",
    "sys_agent = PipelineAgent(sys_nlu, sys_dst, sys_policy, sys_nlg, name='sys')"
   ]
  },
  {
   "cell_type": "markdown",
   "metadata": {
    "colab_type": "text",
    "id": "FvqIiO22H0Od"
   },
   "source": [
    "That's all! Let's chat with the agent using its response function:"
   ]
  },
  {
   "cell_type": "code",
   "execution_count": 3,
   "metadata": {
    "colab": {},
    "colab_type": "code",
    "id": "9LYnDLysH1nX"
   },
   "outputs": [
    {
     "data": {
      "text/plain": [
       "'How about a and b guest house ? Fits your request perfectly . There are 18 of those .'"
      ]
     },
     "execution_count": 3,
     "metadata": {},
     "output_type": "execute_result"
    }
   ],
   "source": [
    "sys_agent.response(\"I want to find a moderate hotel\")"
   ]
  },
  {
   "cell_type": "code",
   "execution_count": 4,
   "metadata": {
    "colab": {},
    "colab_type": "code",
    "id": "dAvi-IzsH474"
   },
   "outputs": [
    {
     "data": {
      "text/plain": [
       "'It is a guesthouse .'"
      ]
     },
     "execution_count": 4,
     "metadata": {},
     "output_type": "execute_result"
    }
   ],
   "source": [
    "sys_agent.response(\"Which type of hotel is it ?\")"
   ]
  },
  {
   "cell_type": "code",
   "execution_count": 5,
   "metadata": {
    "colab": {},
    "colab_type": "code",
    "id": "f0A6Pt4tH60c"
   },
   "outputs": [
    {
     "data": {
      "text/plain": [
       "'It is located at 124 tenison road.'"
      ]
     },
     "execution_count": 5,
     "metadata": {},
     "output_type": "execute_result"
    }
   ],
   "source": [
    "sys_agent.response(\"OK , where is its address ?\")"
   ]
  },
  {
   "cell_type": "code",
   "execution_count": 6,
   "metadata": {
    "colab": {},
    "colab_type": "code",
    "id": "8VH6yO6PH8Ua"
   },
   "outputs": [
    {
     "data": {
      "text/plain": [
       "'Have a good day .'"
      ]
     },
     "execution_count": 6,
     "metadata": {},
     "output_type": "execute_result"
    }
   ],
   "source": [
    "sys_agent.response(\"Thank you !\")"
   ]
  },
  {
   "cell_type": "code",
   "execution_count": 7,
   "metadata": {
    "colab": {},
    "colab_type": "code",
    "id": "wto-PxgNH9gp"
   },
   "outputs": [
    {
     "data": {
      "text/plain": [
       "'I would suggest the good luck chinese food takeaway . They are located at 82 Cherry Hinton Road Cherry Hinton. The reference number is 00000003 . I have 3 options for you !.'"
      ]
     },
     "execution_count": 7,
     "metadata": {},
     "output_type": "execute_result"
    }
   ],
   "source": [
    "sys_agent.response(\"Try to find me a Chinese restaurant in south area .\")"
   ]
  },
  {
   "cell_type": "code",
   "execution_count": 8,
   "metadata": {
    "colab": {},
    "colab_type": "code",
    "id": "MJ9C1ZhbH_JY"
   },
   "outputs": [
    {
     "data": {
      "text/plain": [
       "'They serve chinese food .'"
      ]
     },
     "execution_count": 8,
     "metadata": {},
     "output_type": "execute_result"
    }
   ],
   "source": [
    "sys_agent.response(\"Which kind of food it provides ?\")"
   ]
  },
  {
   "cell_type": "code",
   "execution_count": 9,
   "metadata": {
    "colab": {},
    "colab_type": "code",
    "id": "DpaQNA_HIAmT"
   },
   "outputs": [
    {
     "data": {
      "text/plain": [
       "'Reference number is : 00000003 .'"
      ]
     },
     "execution_count": 9,
     "metadata": {},
     "output_type": "execute_result"
    }
   ],
   "source": [
    "sys_agent.response(\"Book a table for 5 , this Sunday .\")"
   ]
  },
  {
   "cell_type": "markdown",
   "metadata": {
    "colab_type": "text",
    "id": "n6uuuRonIHvW"
   },
   "source": [
    "## Build a simulator to chat with the agent and evaluate\n",
    "\n",
    "In many one-to-one task-oriented dialog system, a simulator is essential to train an RL agent. In our framework, we doesn't distinguish user or system. All speakers are **agents**. The simulator is also an agent, with specific policy inside for accomplishing the user goal.\n",
    "\n",
    "We use `Agenda` policy for the simulator, this policy requires dialog act input, which means we should set DST argument of `PipelineAgent` to None. Then the `PipelineAgent` will pass dialog act to policy directly. Refer to `PipelineAgent` doc for more details."
   ]
  },
  {
   "cell_type": "code",
   "execution_count": 10,
   "metadata": {
    "colab": {},
    "colab_type": "code",
    "id": "pAMAJZSF7D5w"
   },
   "outputs": [
    {
     "name": "stdout",
     "output_type": "stream",
     "text": [
      "Load from https://convlab.blob.core.windows.net/convlab-2/new_milu(20200922)_multiwoz_all_context.tar.gz\n"
     ]
    },
    {
     "name": "stderr",
     "output_type": "stream",
     "text": [
      "100%|██████████| 10943654/10943654 [22:06<00:00, 8248.99B/s] \n",
      "/home/archraven/miniconda3/envs/convlab/lib/python3.6/site-packages/torch/nn/modules/rnn.py:50: UserWarning: dropout option adds dropout after all but last recurrent layer, so non-zero dropout expects num_layers greater than 1, but got dropout=0.5 and num_layers=1\n",
      "  \"num_layers={}\".format(dropout, num_layers))\n"
     ]
    },
    {
     "name": "stdout",
     "output_type": "stream",
     "text": [
      "Loading goal model is done\n"
     ]
    }
   ],
   "source": [
    "# MILU\n",
    "user_nlu = MILU()\n",
    "# not use dst\n",
    "user_dst = None\n",
    "# rule policy\n",
    "user_policy = RulePolicy(character='usr')\n",
    "# template NLG\n",
    "user_nlg = TemplateNLG(is_user=True)\n",
    "# assemble\n",
    "user_agent = PipelineAgent(user_nlu, user_dst, user_policy, user_nlg, name='user')"
   ]
  },
  {
   "cell_type": "markdown",
   "metadata": {
    "colab_type": "text",
    "id": "Rghl-V2AJhRY"
   },
   "source": [
    "\n",
    "Now we have a simulator and an agent. we will use an existed simple one-to-one conversation controller BiSession, you can also define your own Session class for your special need.\n",
    "\n",
    "We add `MultiWozEvaluator` to evaluate the performance. It uses the parsed dialog act input and policy output dialog act to calculate **inform f1**, **book rate**, and whether the task is **success**."
   ]
  },
  {
   "cell_type": "code",
   "execution_count": 11,
   "metadata": {
    "colab": {},
    "colab_type": "code",
    "id": "saUoLUUGJqDa"
   },
   "outputs": [],
   "source": [
    "evaluator = MultiWozEvaluator()\n",
    "sess = BiSession(sys_agent=sys_agent, user_agent=user_agent, kb_query=None, evaluator=evaluator)"
   ]
  },
  {
   "cell_type": "markdown",
   "metadata": {
    "colab_type": "text",
    "id": "kevGJZhFJzTU"
   },
   "source": [
    "Let's make this two agents chat! The key is `next_turn` method of `BiSession` class."
   ]
  },
  {
   "cell_type": "code",
   "execution_count": 12,
   "metadata": {
    "colab": {},
    "colab_type": "code",
    "id": "FIV_qkE49LzE"
   },
   "outputs": [
    {
     "name": "stdout",
     "output_type": "stream",
     "text": [
      "init goal:\n",
      "{'restaurant': {'info': {'area': 'west', 'pricerange': 'moderate'},\n",
      "                'reqt': {'phone': '?'}},\n",
      " 'train': {'info': {'arriveBy': '10:45',\n",
      "                    'day': 'sunday',\n",
      "                    'departure': 'norwich',\n",
      "                    'destination': 'cambridge'},\n",
      "           'reqt': {'price': '?'}}}\n",
      "--------------------------------------------------\n",
      "user: I need to find information about a certain restaurant , can you help with that ? I am looking for a moderate restaurant . Is that located in the west ?\n",
      "sys: I recommend saint johns chop house. Okay , may I suggest british food ? There are 3 different places that match your description .\n",
      "\n",
      "user: What is the phone number of the restaurant ?\n",
      "sys: 01799521260 is the restaurant phone number.\n",
      "\n",
      "user: I also need a train. I need to find a train to cambridge please . I 'll be departing from norwich . I would like to leave on sunday .\n",
      "sys: When would you like to leave by ? Is there a time you need to arrive by ?\n",
      "\n",
      "user: Well I want to arrive by 10:45 . I don't care about the leave of the train.\n",
      "sys: I don't care about the leave of the train. Would you like me to book the 10:45 train ? I can book you on sunday. Would you like me to book a train to cambridge for you ? Would you like me to book a train from norwich for you ?\n",
      "\n",
      "user: I don't care about the leave of the train.\n",
      "sys: I don't care about the leave of the train. It arrives by 10:45 would that be okay to book for you ? I can book your tickets for sunday . Would you like me to book a train to cambridge for you ? Would you like me to book a train from norwich for you ?\n",
      "\n",
      "user: I need to know the price.\n",
      "sys: The price is 14.08 pounds per ticket .\n",
      "\n",
      "user: That 's all I need today . Thanks ! Bye !.\n",
      "sys: Glad to have been of help . Thank you for using the Cambridge TownInfo centre . Enjoy the rest of your day !.\n",
      "\n",
      "task success: 1\n",
      "book rate: None\n",
      "inform precision/recall/f1: (0.6666666666666666, 1.0, 0.8)\n",
      "--------------------------------------------------\n",
      "final goal:\n",
      "{'restaurant': {'info': {'area': 'west', 'pricerange': 'moderate'},\n",
      "                'reqt': {'phone': '01799521260'}},\n",
      " 'train': {'info': {'arriveBy': '10:45',\n",
      "                    'day': 'sunday',\n",
      "                    'departure': 'norwich',\n",
      "                    'destination': 'cambridge'},\n",
      "           'reqt': {'price': '14.08 pounds'}}}\n",
      "====================================================================================================\n"
     ]
    }
   ],
   "source": [
    "def set_seed(r_seed):\n",
    "    random.seed(r_seed)\n",
    "    np.random.seed(r_seed)\n",
    "    torch.manual_seed(r_seed)\n",
    "\n",
    "set_seed(20200131)\n",
    "\n",
    "sys_response = ''\n",
    "sess.init_session()\n",
    "print('init goal:')\n",
    "pprint(sess.evaluator.goal)\n",
    "print('-'*50)\n",
    "for i in range(20):\n",
    "    sys_response, user_response, session_over, reward = sess.next_turn(sys_response)\n",
    "    print('user:', user_response)\n",
    "    print('sys:', sys_response)\n",
    "    print()\n",
    "    if session_over is True:\n",
    "        break\n",
    "print('task success:', sess.evaluator.task_success())\n",
    "print('book rate:', sess.evaluator.book_rate())\n",
    "print('inform precision/recall/f1:', sess.evaluator.inform_F1())\n",
    "print('-'*50)\n",
    "print('final goal:')\n",
    "pprint(sess.evaluator.goal)\n",
    "print('='*100)"
   ]
  },
  {
   "cell_type": "markdown",
   "metadata": {
    "colab_type": "text",
    "id": "CKOQs1l8LpTR"
   },
   "source": [
    "## Try different module combinations\n",
    "\n",
    "The combination modes of pipeline agent modules are flexible. We support joint models such as MDBT, TRADE, SUMBT for word-DST and MDRG, HDSA, LaRL for word-Policy, once the input and output are matched with previous and next module. We also support End2End models such as Sequicity.\n",
    "\n",
    "Available models:\n",
    "\n",
    "- NLU: BERTNLU, MILU, SVMNLU\n",
    "- DST: RuleDST\n",
    "- Word-DST: SUMBT, TRADE, MDBT (set `sys_nlu` to `None`)\n",
    "- Policy: RulePolicy, Imitation, REINFORCE, PPO, GDPL\n",
    "- Word-Policy: MDRG, HDSA, LaRL (set `sys_nlg` to `None`)\n",
    "- NLG: Template, SCLSTM\n",
    "- End2End: Sequicity, DAMD, RNN_rollout (directly used as `sys_agent`)\n",
    "- Simulator policy: Agenda, VHUS (for `user_policy`)\n"
   ]
  },
  {
   "cell_type": "code",
   "execution_count": 14,
   "metadata": {
    "colab": {},
    "colab_type": "code",
    "id": "G-9G0VYUNYOI"
   },
   "outputs": [
    {
     "name": "stdout",
     "output_type": "stream",
     "text": [
      "Downloading from:  https://convlab.blob.core.windows.net/convlab-2/mdrg_model.zip\n",
      "Load from https://convlab.blob.core.windows.net/convlab-2/mdrg_model.zip\n"
     ]
    },
    {
     "name": "stderr",
     "output_type": "stream",
     "text": [
      "01/11/2021 00:11:29 - INFO - convlab2.util.allennlp_file_utils -   https://convlab.blob.core.windows.net/convlab-2/mdrg_model.zip not found in cache, downloading to /tmp/tmpstcu3qjc\n",
      "100%|██████████| 21577107/21577107 [12:49<00:00, 28049.24B/s]\n",
      "01/11/2021 00:24:21 - INFO - convlab2.util.allennlp_file_utils -   copying /tmp/tmpstcu3qjc to cache at /home/archraven/.convlab2/cache/b0bc758ff68dc79ef5287ddd38b6267f8784df273b2e6f7e496a1e9031c65ca5.ea9a4a5a9034b22be1093ea89deb230956f14487e2c2441b9ee59cef0fc252a2\n",
      "01/11/2021 00:24:21 - INFO - convlab2.util.allennlp_file_utils -   creating metadata file for /home/archraven/.convlab2/cache/b0bc758ff68dc79ef5287ddd38b6267f8784df273b2e6f7e496a1e9031c65ca5.ea9a4a5a9034b22be1093ea89deb230956f14487e2c2441b9ee59cef0fc252a2\n",
      "01/11/2021 00:24:21 - INFO - convlab2.util.allennlp_file_utils -   removing temp file /tmp/tmpstcu3qjc\n"
     ]
    },
    {
     "name": "stdout",
     "output_type": "stream",
     "text": [
      "Extracting...\n",
      "Downloading from:  https://convlab.blob.core.windows.net/convlab-2/mdrg_data.zip\n",
      "Load from https://convlab.blob.core.windows.net/convlab-2/mdrg_data.zip\n"
     ]
    },
    {
     "name": "stderr",
     "output_type": "stream",
     "text": [
      "01/11/2021 00:24:24 - INFO - convlab2.util.allennlp_file_utils -   https://convlab.blob.core.windows.net/convlab-2/mdrg_data.zip not found in cache, downloading to /tmp/tmpzikv0kam\n",
      "100%|██████████| 47104409/47104409 [32:27<00:00, 24187.33B/s] \n",
      "01/11/2021 00:56:55 - INFO - convlab2.util.allennlp_file_utils -   copying /tmp/tmpzikv0kam to cache at /home/archraven/.convlab2/cache/00a406587d87174b74198f14cae25cd2054923a471c59233f27ec80caef23686.da1518d0f3a98f95e2be9aee8474275aa3e182c5b9faccf16e9deac38752afce\n",
      "01/11/2021 00:56:56 - INFO - convlab2.util.allennlp_file_utils -   creating metadata file for /home/archraven/.convlab2/cache/00a406587d87174b74198f14cae25cd2054923a471c59233f27ec80caef23686.da1518d0f3a98f95e2be9aee8474275aa3e182c5b9faccf16e9deac38752afce\n",
      "01/11/2021 00:56:56 - INFO - convlab2.util.allennlp_file_utils -   removing temp file /tmp/tmpzikv0kam\n"
     ]
    },
    {
     "name": "stdout",
     "output_type": "stream",
     "text": [
      "Extracting...\n",
      "Downloading from:  https://convlab.blob.core.windows.net/convlab-2/mdrg_db.zip\n",
      "Load from https://convlab.blob.core.windows.net/convlab-2/mdrg_db.zip\n"
     ]
    },
    {
     "name": "stderr",
     "output_type": "stream",
     "text": [
      "01/11/2021 00:57:00 - INFO - convlab2.util.allennlp_file_utils -   https://convlab.blob.core.windows.net/convlab-2/mdrg_db.zip not found in cache, downloading to /tmp/tmpqb6rav9n\n",
      "100%|██████████| 183081/183081 [00:08<00:00, 22030.78B/s]\n",
      "01/11/2021 00:57:10 - INFO - convlab2.util.allennlp_file_utils -   copying /tmp/tmpqb6rav9n to cache at /home/archraven/.convlab2/cache/a9766cc757fb79e7ac5266715dd065c687f884e5dc06840bba4d3b07307eb95b.b7bac7303e20c54957b367fa386215aaa595d5df9fb04341554b2067d458679c\n",
      "01/11/2021 00:57:10 - INFO - convlab2.util.allennlp_file_utils -   creating metadata file for /home/archraven/.convlab2/cache/a9766cc757fb79e7ac5266715dd065c687f884e5dc06840bba4d3b07307eb95b.b7bac7303e20c54957b367fa386215aaa595d5df9fb04341554b2067d458679c\n",
      "01/11/2021 00:57:10 - INFO - convlab2.util.allennlp_file_utils -   removing temp file /tmp/tmpqb6rav9n\n"
     ]
    },
    {
     "name": "stdout",
     "output_type": "stream",
     "text": [
      "Extracting...\n"
     ]
    },
    {
     "name": "stderr",
     "output_type": "stream",
     "text": [
      "[nltk_data] Downloading package stopwords to\n",
      "[nltk_data]     /home/archraven/nltk_data...\n",
      "[nltk_data]   Unzipping corpora/stopwords.zip.\n"
     ]
    }
   ],
   "source": [
    "# available NLU models\n",
    "from convlab2.nlu.svm.multiwoz import SVMNLU\n",
    "from convlab2.nlu.jointBERT.multiwoz import BERTNLU\n",
    "from convlab2.nlu.milu.multiwoz import MILU\n",
    "# available DST models\n",
    "from convlab2.dst.rule.multiwoz import RuleDST\n",
    "# from convlab2.dst.mdbt.multiwoz import MDBT\n",
    "from convlab2.dst.sumbt.multiwoz import SUMBT\n",
    "from convlab2.dst.trade.multiwoz import TRADE\n",
    "# available Policy models\n",
    "from convlab2.policy.rule.multiwoz import RulePolicy\n",
    "from convlab2.policy.ppo.multiwoz import PPOPolicy\n",
    "from convlab2.policy.pg.multiwoz import PGPolicy\n",
    "from convlab2.policy.mle.multiwoz import MLEPolicy\n",
    "from convlab2.policy.gdpl.multiwoz import GDPLPolicy\n",
    "from convlab2.policy.vhus.multiwoz import UserPolicyVHUS\n",
    "from convlab2.policy.mdrg.multiwoz import MDRGWordPolicy\n",
    "from convlab2.policy.hdsa.multiwoz import HDSA\n",
    "from convlab2.policy.larl.multiwoz import LaRL\n",
    "# available NLG models\n",
    "from convlab2.nlg.template.multiwoz import TemplateNLG\n",
    "from convlab2.nlg.sclstm.multiwoz import SCLSTM\n",
    "# available E2E models\n",
    "from convlab2.e2e.sequicity.multiwoz import Sequicity\n",
    "from convlab2.e2e.damd.multiwoz import Damd"
   ]
  },
  {
   "cell_type": "markdown",
   "metadata": {
    "colab_type": "text",
    "id": "6TS2_Tp1Nzvq"
   },
   "source": [
    "NLU+RuleDST or Word-DST:"
   ]
  },
  {
   "cell_type": "code",
   "execution_count": 15,
   "metadata": {
    "colab": {},
    "colab_type": "code",
    "id": "DZMk9wAlONrz"
   },
   "outputs": [
    {
     "name": "stderr",
     "output_type": "stream",
     "text": [
      "01/11/2021 00:57:14 - DEBUG - urllib3.connectionpool -   Starting new HTTPS connection (1): s3.amazonaws.com:443\n",
      "01/11/2021 00:57:16 - DEBUG - urllib3.connectionpool -   https://s3.amazonaws.com:443 \"HEAD /models.huggingface.co/bert/bert-base-uncased-vocab.txt HTTP/1.1\" 200 0\n",
      "01/11/2021 00:57:16 - INFO - transformers.tokenization_utils -   loading file https://s3.amazonaws.com/models.huggingface.co/bert/bert-base-uncased-vocab.txt from cache at /home/archraven/.cache/torch/transformers/26bc1ad6c0ac742e9b52263248f6d0f00068293b33709fae12320c0e35ccfbbb.542ce4285a40d23a559526243235df47c5f75c197f04f37d1a0c124c32c9a084\n",
      "01/11/2021 00:57:16 - DEBUG - urllib3.connectionpool -   Starting new HTTPS connection (1): s3.amazonaws.com:443\n"
     ]
    },
    {
     "name": "stdout",
     "output_type": "stream",
     "text": [
      "intent num: 137\n",
      "tag num: 331\n",
      "Load from /home/archraven/Documents/GitHub/ConvLab-2/convlab2/nlu/jointBERT/multiwoz/output/all_context/pytorch_model.bin\n",
      "bert-base-uncased\n"
     ]
    },
    {
     "name": "stderr",
     "output_type": "stream",
     "text": [
      "01/11/2021 00:57:18 - DEBUG - urllib3.connectionpool -   https://s3.amazonaws.com:443 \"HEAD /models.huggingface.co/bert/bert-base-uncased-config.json HTTP/1.1\" 200 0\n",
      "01/11/2021 00:57:18 - INFO - transformers.configuration_utils -   loading configuration file https://s3.amazonaws.com/models.huggingface.co/bert/bert-base-uncased-config.json from cache at /home/archraven/.cache/torch/transformers/4dad0251492946e18ac39290fcfe91b89d370fee250efe9521476438fe8ca185.7156163d5fdc189c3016baca0775ffce230789d7fa2a42ef516483e4ca884517\n",
      "01/11/2021 00:57:18 - INFO - transformers.configuration_utils -   Model config BertConfig {\n",
      "  \"architectures\": [\n",
      "    \"BertForMaskedLM\"\n",
      "  ],\n",
      "  \"attention_probs_dropout_prob\": 0.1,\n",
      "  \"hidden_act\": \"gelu\",\n",
      "  \"hidden_dropout_prob\": 0.1,\n",
      "  \"hidden_size\": 768,\n",
      "  \"initializer_range\": 0.02,\n",
      "  \"intermediate_size\": 3072,\n",
      "  \"layer_norm_eps\": 1e-12,\n",
      "  \"max_position_embeddings\": 512,\n",
      "  \"model_type\": \"bert\",\n",
      "  \"num_attention_heads\": 12,\n",
      "  \"num_hidden_layers\": 12,\n",
      "  \"pad_token_id\": 0,\n",
      "  \"type_vocab_size\": 2,\n",
      "  \"vocab_size\": 30522\n",
      "}\n",
      "\n",
      "01/11/2021 00:57:18 - DEBUG - urllib3.connectionpool -   Starting new HTTPS connection (1): cdn.huggingface.co:443\n",
      "01/11/2021 00:57:21 - DEBUG - urllib3.connectionpool -   https://cdn.huggingface.co:443 \"HEAD /bert-base-uncased-pytorch_model.bin HTTP/1.1\" 200 0\n",
      "01/11/2021 00:57:21 - INFO - transformers.modeling_utils -   loading weights file https://cdn.huggingface.co/bert-base-uncased-pytorch_model.bin from cache at /home/archraven/.cache/torch/transformers/f2ee78bdd635b758cc0a12352586868bef80e47401abe4c4fcc3832421e7338b.36ca03ab34a1a5d5fa7bc3d03d55c4fa650fed07220e2eeebc06ce58d0e9a157\n"
     ]
    },
    {
     "name": "stdout",
     "output_type": "stream",
     "text": [
      "BERTNLU loaded\n"
     ]
    }
   ],
   "source": [
    "# NLU+RuleDST:\n",
    "sys_nlu = BERTNLU()\n",
    "# sys_nlu = MILU()\n",
    "# sys_nlu = SVMNLU()\n",
    "sys_dst = RuleDST()\n",
    "\n",
    "# or Word-DST:\n",
    "# sys_nlu = None\n",
    "# sys_dst = SUMBT()\n",
    "# sys_dst = TRADE()\n",
    "# sys_dst = MDBT()"
   ]
  },
  {
   "cell_type": "markdown",
   "metadata": {
    "colab_type": "text",
    "id": "gUUYsDMJPJRl"
   },
   "source": [
    "Policy+NLG or Word-Policy:"
   ]
  },
  {
   "cell_type": "code",
   "execution_count": 16,
   "metadata": {
    "colab": {},
    "colab_type": "code",
    "id": "PTJ95x9UPHt4"
   },
   "outputs": [],
   "source": [
    "# Policy+NLG:\n",
    "sys_policy = RulePolicy()\n",
    "# sys_policy = PPOPolicy()\n",
    "# sys_policy = PGPolicy()\n",
    "# sys_policy = MLEPolicy()\n",
    "# sys_policy = GDPLPolicy()\n",
    "sys_nlg = TemplateNLG(is_user=False)\n",
    "# sys_nlg = SCLSTM(is_user=False)\n",
    "\n",
    "# or Word-Policy:\n",
    "# sys_policy = LaRL()\n",
    "# sys_policy = HDSA()\n",
    "# sys_policy = MDRGWordPolicy()\n",
    "# sys_nlg = None"
   ]
  },
  {
   "cell_type": "markdown",
   "metadata": {
    "colab_type": "text",
    "id": "s9lGIv0oPupn"
   },
   "source": [
    "Assemble the Pipeline system agent:"
   ]
  },
  {
   "cell_type": "code",
   "execution_count": 17,
   "metadata": {
    "colab": {},
    "colab_type": "code",
    "id": "IvLx7HUkPyZ5"
   },
   "outputs": [],
   "source": [
    "sys_agent = PipelineAgent(sys_nlu, sys_dst, sys_policy, sys_nlg, 'sys')"
   ]
  },
  {
   "cell_type": "markdown",
   "metadata": {
    "colab_type": "text",
    "id": "hR4A8WbZP2lc"
   },
   "source": [
    "Or Directly use an end-to-end model:"
   ]
  },
  {
   "cell_type": "code",
   "execution_count": 0,
   "metadata": {
    "colab": {},
    "colab_type": "code",
    "id": "8VdUmcxoP6ej"
   },
   "outputs": [],
   "source": [
    "# sys_agent = Sequicity()\n",
    "# sys_agent = Damd()"
   ]
  },
  {
   "cell_type": "markdown",
   "metadata": {
    "colab_type": "text",
    "id": "_v-eoBtnP9J9"
   },
   "source": [
    "Config an user agent similarly:"
   ]
  },
  {
   "cell_type": "code",
   "execution_count": 18,
   "metadata": {
    "colab": {},
    "colab_type": "code",
    "id": "UkHpjvR5QezN"
   },
   "outputs": [
    {
     "name": "stderr",
     "output_type": "stream",
     "text": [
      "01/11/2021 00:57:25 - DEBUG - urllib3.connectionpool -   Starting new HTTPS connection (1): s3.amazonaws.com:443\n",
      "01/11/2021 00:57:27 - DEBUG - urllib3.connectionpool -   https://s3.amazonaws.com:443 \"HEAD /models.huggingface.co/bert/bert-base-uncased-vocab.txt HTTP/1.1\" 200 0\n",
      "01/11/2021 00:57:27 - INFO - transformers.tokenization_utils -   loading file https://s3.amazonaws.com/models.huggingface.co/bert/bert-base-uncased-vocab.txt from cache at /home/archraven/.cache/torch/transformers/26bc1ad6c0ac742e9b52263248f6d0f00068293b33709fae12320c0e35ccfbbb.542ce4285a40d23a559526243235df47c5f75c197f04f37d1a0c124c32c9a084\n",
      "01/11/2021 00:57:27 - DEBUG - urllib3.connectionpool -   Starting new HTTPS connection (1): s3.amazonaws.com:443\n"
     ]
    },
    {
     "name": "stdout",
     "output_type": "stream",
     "text": [
      "intent num: 137\n",
      "tag num: 331\n",
      "Load from /home/archraven/Documents/GitHub/ConvLab-2/convlab2/nlu/jointBERT/multiwoz/output/all_context/pytorch_model.bin\n",
      "bert-base-uncased\n"
     ]
    },
    {
     "name": "stderr",
     "output_type": "stream",
     "text": [
      "01/11/2021 00:57:28 - DEBUG - urllib3.connectionpool -   https://s3.amazonaws.com:443 \"HEAD /models.huggingface.co/bert/bert-base-uncased-config.json HTTP/1.1\" 200 0\n",
      "01/11/2021 00:57:28 - INFO - transformers.configuration_utils -   loading configuration file https://s3.amazonaws.com/models.huggingface.co/bert/bert-base-uncased-config.json from cache at /home/archraven/.cache/torch/transformers/4dad0251492946e18ac39290fcfe91b89d370fee250efe9521476438fe8ca185.7156163d5fdc189c3016baca0775ffce230789d7fa2a42ef516483e4ca884517\n",
      "01/11/2021 00:57:28 - INFO - transformers.configuration_utils -   Model config BertConfig {\n",
      "  \"architectures\": [\n",
      "    \"BertForMaskedLM\"\n",
      "  ],\n",
      "  \"attention_probs_dropout_prob\": 0.1,\n",
      "  \"hidden_act\": \"gelu\",\n",
      "  \"hidden_dropout_prob\": 0.1,\n",
      "  \"hidden_size\": 768,\n",
      "  \"initializer_range\": 0.02,\n",
      "  \"intermediate_size\": 3072,\n",
      "  \"layer_norm_eps\": 1e-12,\n",
      "  \"max_position_embeddings\": 512,\n",
      "  \"model_type\": \"bert\",\n",
      "  \"num_attention_heads\": 12,\n",
      "  \"num_hidden_layers\": 12,\n",
      "  \"pad_token_id\": 0,\n",
      "  \"type_vocab_size\": 2,\n",
      "  \"vocab_size\": 30522\n",
      "}\n",
      "\n",
      "01/11/2021 00:57:28 - DEBUG - urllib3.connectionpool -   Starting new HTTPS connection (1): cdn.huggingface.co:443\n",
      "01/11/2021 00:57:29 - DEBUG - urllib3.connectionpool -   https://cdn.huggingface.co:443 \"HEAD /bert-base-uncased-pytorch_model.bin HTTP/1.1\" 200 0\n",
      "01/11/2021 00:57:29 - INFO - transformers.modeling_utils -   loading weights file https://cdn.huggingface.co/bert-base-uncased-pytorch_model.bin from cache at /home/archraven/.cache/torch/transformers/f2ee78bdd635b758cc0a12352586868bef80e47401abe4c4fcc3832421e7338b.36ca03ab34a1a5d5fa7bc3d03d55c4fa650fed07220e2eeebc06ce58d0e9a157\n"
     ]
    },
    {
     "name": "stdout",
     "output_type": "stream",
     "text": [
      "BERTNLU loaded\n",
      "Loading goal model is done\n"
     ]
    }
   ],
   "source": [
    "user_nlu = BERTNLU()\n",
    "# user_nlu = MILU()\n",
    "# user_nlu = SVMNLU()\n",
    "user_dst = None\n",
    "user_policy = RulePolicy(character='usr')\n",
    "# user_policy = UserPolicyVHUS(load_from_zip=True)\n",
    "user_nlg = TemplateNLG(is_user=True)\n",
    "# user_nlg = SCLSTM(is_user=True)\n",
    "user_agent = PipelineAgent(user_nlu, user_dst, user_policy, user_nlg, name='user')"
   ]
  },
  {
   "cell_type": "markdown",
   "metadata": {
    "colab_type": "text",
    "id": "VJTBxEDhSAqc"
   },
   "source": [
    "## Use analysis tool to diagnose the system\n",
    "We provide an analysis tool presents rich statistics and summarizes common mistakes from simulated dialogues, which facilitates error analysis and\n",
    "system improvement. The analyzer will generate an HTML report which contains\n",
    "rich statistics of simulated dialogues. For more information, please refer to `convlab2/util/analysis_tool`."
   ]
  },
  {
   "cell_type": "code",
   "execution_count": 19,
   "metadata": {
    "colab": {},
    "colab_type": "code",
    "id": "Hu2q3lQiSMDy"
   },
   "outputs": [
    {
     "name": "stderr",
     "output_type": "stream",
     "text": [
      "01/11/2021 00:58:07 - DEBUG - matplotlib -   (private) matplotlib data path: /home/archraven/miniconda3/envs/convlab/lib/python3.6/site-packages/matplotlib/mpl-data\n",
      "01/11/2021 00:58:07 - DEBUG - matplotlib -   matplotlib data path: /home/archraven/miniconda3/envs/convlab/lib/python3.6/site-packages/matplotlib/mpl-data\n",
      "01/11/2021 00:58:07 - DEBUG - matplotlib -   CONFIGDIR=/home/archraven/.config/matplotlib\n",
      "01/11/2021 00:58:07 - DEBUG - matplotlib -   matplotlib version 3.3.3\n",
      "01/11/2021 00:58:07 - DEBUG - matplotlib -   interactive is False\n",
      "01/11/2021 00:58:07 - DEBUG - matplotlib -   platform is linux\n",
      "01/11/2021 00:58:07 - DEBUG - matplotlib -   loaded modules: ['builtins', 'sys', '_frozen_importlib', '_imp', '_warnings', '_thread', '_weakref', '_frozen_importlib_external', '_io', 'marshal', 'posix', 'zipimport', 'encodings', 'codecs', '_codecs', 'encodings.aliases', 'encodings.utf_8', '_signal', '__main__', 'encodings.latin_1', 'io', 'abc', '_weakrefset', '_bootlocale', '_locale', 'site', 'os', 'errno', 'stat', '_stat', 'posixpath', 'genericpath', 'os.path', '_collections_abc', '_sitebuiltins', 'sysconfig', '_sysconfigdata_m_linux_x86_64-linux-gnu', 'types', 'functools', '_functools', 'collections', 'operator', '_operator', 'keyword', 'heapq', '_heapq', 'itertools', 'reprlib', '_collections', 'weakref', 'collections.abc', 'importlib', 'importlib._bootstrap', 'importlib._bootstrap_external', 'warnings', 'importlib.util', 'importlib.abc', 'importlib.machinery', 'contextlib', 'google', 'mpl_toolkits', 'sphinxcontrib', 'zope', 'runpy', 'pkgutil', 'ipykernel', 'ipykernel._version', 'ipykernel.connect', 'json', 'json.decoder', 're', 'enum', 'sre_compile', '_sre', 'sre_parse', 'sre_constants', 'copyreg', 'json.scanner', '_json', 'json.encoder', 'subprocess', 'time', 'signal', '_posixsubprocess', 'select', 'selectors', 'math', 'threading', 'traceback', 'linecache', 'tokenize', 'token', 'IPython', 'IPython.core', 'IPython.core.getipython', 'IPython.core.release', 'IPython.core.application', 'atexit', 'copy', 'glob', 'fnmatch', 'logging', 'string', '_string', 'shutil', 'zlib', 'bz2', '_compression', '_bz2', 'lzma', '_lzma', 'pwd', 'grp', 'traitlets', 'traitlets.traitlets', 'inspect', 'ast', '_ast', 'dis', 'opcode', '_opcode', 'six', '__future__', 'struct', '_struct', 'traitlets.utils', 'traitlets.utils.getargspec', 'traitlets.utils.importstring', 'ipython_genutils', 'ipython_genutils._version', 'ipython_genutils.py3compat', 'ipython_genutils.encoding', 'locale', 'platform', 'traitlets.utils.sentinel', 'traitlets.utils.bunch', 'traitlets._version', 'traitlets.config', 'traitlets.config.application', 'decorator', 'traitlets.config.configurable', 'traitlets.config.loader', 'argparse', 'textwrap', 'gettext', 'ipython_genutils.path', 'random', 'hashlib', '_hashlib', '_blake2', '_sha3', 'bisect', '_bisect', '_random', 'ipython_genutils.text', 'ipython_genutils.importstring', 'IPython.core.crashhandler', 'pprint', 'IPython.core.ultratb', 'pydoc', 'urllib', 'urllib.parse', 'IPython.core.debugger', 'bdb', 'IPython.utils', 'IPython.utils.PyColorize', 'IPython.utils.coloransi', 'IPython.utils.ipstruct', 'IPython.utils.colorable', 'pygments', 'IPython.utils.py3compat', 'IPython.utils.encoding', 'IPython.core.excolors', 'IPython.testing', 'IPython.testing.skipdoctest', 'pdb', 'cmd', 'code', 'codeop', 'IPython.core.display_trap', 'IPython.utils.path', 'IPython.utils.process', 'IPython.utils._process_posix', 'pexpect', 'pexpect.exceptions', 'pexpect.utils', 'pexpect.expect', 'pexpect.pty_spawn', 'pty', 'tty', 'termios', 'ptyprocess', 'ptyprocess.ptyprocess', 'fcntl', 'resource', 'ptyprocess.util', 'pexpect.spawnbase', 'pexpect.run', 'IPython.utils._process_common', 'shlex', 'IPython.utils.decorators', 'IPython.utils.data', 'IPython.utils.terminal', 'IPython.utils.sysinfo', 'IPython.utils._sysinfo', 'IPython.core.profiledir', 'IPython.paths', 'tempfile', 'IPython.utils.importstring', 'IPython.terminal', 'IPython.terminal.embed', 'IPython.core.compilerop', 'IPython.core.magic_arguments', 'IPython.core.error', 'IPython.utils.text', 'pathlib', 'ntpath', 'IPython.core.magic', 'getopt', 'IPython.core.oinspect', 'typing', 'typing.io', 'typing.re', 'IPython.core.page', 'IPython.core.display', 'binascii', 'mimetypes', 'IPython.lib', 'IPython.lib.security', 'getpass', 'IPython.lib.pretty', 'datetime', '_datetime', 'IPython.utils.openpy', 'IPython.utils.dir2', 'IPython.utils.wildcard', 'pygments.lexers', 'pygments.lexers._mapping', 'pygments.modeline', 'pygments.plugin', 'pygments.util', 'pygments.lexers.python', 'pygments.lexer', 'pygments.filter', 'pygments.filters', 'pygments.token', 'pygments.regexopt', 'pygments.unistring', 'pygments.formatters', 'pygments.formatters._mapping', 'pygments.formatters.html', 'pygments.formatter', 'pygments.styles', 'IPython.core.inputtransformer2', 'IPython.core.interactiveshell', 'pickleshare', 'pickle', '_compat_pickle', '_pickle', 'IPython.core.prefilter', 'IPython.core.autocall', 'IPython.core.macro', 'IPython.core.splitinput', 'IPython.core.alias', 'IPython.core.builtin_trap', 'IPython.core.events', 'backcall', 'backcall.backcall', 'IPython.core.displayhook', 'IPython.core.displaypub', 'IPython.core.extensions', 'IPython.core.formatters', 'IPython.utils.sentinel', 'IPython.core.history', 'sqlite3', 'sqlite3.dbapi2', '_sqlite3', 'IPython.core.logger', 'IPython.core.payload', 'IPython.core.usage', 'IPython.display', 'IPython.lib.display', 'html', 'html.entities', 'IPython.utils.io', 'IPython.utils.capture', 'IPython.utils.strdispatch', 'IPython.core.hooks', 'IPython.utils.syspathcontext', 'IPython.utils.tempdir', 'IPython.utils.contexts', 'IPython.core.async_helpers', 'IPython.terminal.interactiveshell', 'asyncio', 'asyncio.base_events', 'concurrent', 'concurrent.futures', 'concurrent.futures._base', 'concurrent.futures.process', 'queue', 'multiprocessing', 'multiprocessing.context', 'multiprocessing.process', 'multiprocessing.reduction', 'socket', '_socket', 'array', '__mp_main__', 'multiprocessing.connection', '_multiprocessing', 'multiprocessing.util', 'concurrent.futures.thread', 'asyncio.compat', 'asyncio.coroutines', 'asyncio.constants', 'asyncio.events', 'asyncio.base_futures', 'asyncio.log', 'asyncio.futures', 'asyncio.base_tasks', '_asyncio', 'asyncio.tasks', 'asyncio.locks', 'asyncio.protocols', 'asyncio.queues', 'asyncio.streams', 'asyncio.subprocess', 'asyncio.transports', 'asyncio.unix_events', 'asyncio.base_subprocess', 'asyncio.selector_events', 'ssl', 'ipaddress', '_ssl', 'base64', 'asyncio.sslproto', 'prompt_toolkit', 'prompt_toolkit.application', 'prompt_toolkit.application.application', 'prompt_toolkit.buffer', 'prompt_toolkit.application.current', 'prompt_toolkit.eventloop', 'prompt_toolkit.eventloop.async_generator', 'prompt_toolkit.eventloop.utils', 'prompt_toolkit.eventloop.dummy_contextvars', 'prompt_toolkit.eventloop.inputhook', 'prompt_toolkit.utils', 'wcwidth', 'wcwidth.wcwidth', 'wcwidth.table_wide', 'wcwidth.table_zero', 'wcwidth.unicode_versions', 'prompt_toolkit.application.run_in_terminal', 'prompt_toolkit.eventloop.async_context_manager', 'prompt_toolkit.auto_suggest', 'prompt_toolkit.document', 'prompt_toolkit.clipboard', 'prompt_toolkit.clipboard.base', 'prompt_toolkit.selection', 'prompt_toolkit.clipboard.in_memory', 'prompt_toolkit.filters', 'prompt_toolkit.filters.app', 'prompt_toolkit.cache', 'prompt_toolkit.enums', 'prompt_toolkit.filters.base', 'prompt_toolkit.filters.cli', 'prompt_toolkit.filters.utils', 'prompt_toolkit.completion', 'prompt_toolkit.completion.base', 'prompt_toolkit.formatted_text', 'prompt_toolkit.formatted_text.ansi', 'prompt_toolkit.output', 'prompt_toolkit.output.base', 'prompt_toolkit.data_structures', 'prompt_toolkit.styles', 'prompt_toolkit.styles.base', 'prompt_toolkit.styles.defaults', 'prompt_toolkit.styles.named_colors', 'prompt_toolkit.styles.style', 'prompt_toolkit.styles.pygments', 'prompt_toolkit.styles.style_transformation', 'colorsys', 'prompt_toolkit.output.color_depth', 'prompt_toolkit.output.defaults', 'prompt_toolkit.patch_stdout', 'prompt_toolkit.output.vt100', 'prompt_toolkit.formatted_text.base', 'prompt_toolkit.mouse_events', 'prompt_toolkit.formatted_text.html', 'xml', 'xml.dom', 'xml.dom.domreg', 'xml.dom.minidom', 'xml.dom.minicompat', 'xml.dom.xmlbuilder', 'xml.dom.NodeFilter', 'prompt_toolkit.formatted_text.pygments', 'prompt_toolkit.formatted_text.utils', 'prompt_toolkit.completion.filesystem', 'prompt_toolkit.completion.fuzzy_completer', 'prompt_toolkit.completion.word_completer', 'prompt_toolkit.completion.nested', 'prompt_toolkit.history', 'prompt_toolkit.search', 'prompt_toolkit.key_binding', 'prompt_toolkit.key_binding.key_bindings', 'prompt_toolkit.keys', 'prompt_toolkit.key_binding.key_processor', 'prompt_toolkit.key_binding.vi_state', 'prompt_toolkit.validation', 'prompt_toolkit.input', 'prompt_toolkit.input.base', 'prompt_toolkit.input.defaults', 'prompt_toolkit.input.typeahead', 'prompt_toolkit.key_binding.bindings', 'prompt_toolkit.key_binding.bindings.page_navigation', 'prompt_toolkit.key_binding.bindings.scroll', 'prompt_toolkit.key_binding.defaults', 'prompt_toolkit.key_binding.bindings.basic', 'prompt_toolkit.key_binding.bindings.named_commands', 'prompt_toolkit.layout', 'prompt_toolkit.layout.containers', 'prompt_toolkit.layout.controls', 'prompt_toolkit.lexers', 'prompt_toolkit.lexers.base', 'prompt_toolkit.lexers.pygments', 'prompt_toolkit.layout.processors', 'prompt_toolkit.layout.utils', 'prompt_toolkit.layout.dimension', 'prompt_toolkit.layout.margins', 'prompt_toolkit.layout.mouse_handlers', 'prompt_toolkit.layout.screen', 'prompt_toolkit.layout.layout', 'prompt_toolkit.layout.menus', 'prompt_toolkit.key_binding.bindings.completion', 'prompt_toolkit.key_binding.bindings.cpr', 'prompt_toolkit.key_binding.bindings.emacs', 'prompt_toolkit.key_binding.bindings.mouse', 'prompt_toolkit.key_binding.bindings.vi', 'prompt_toolkit.input.vt100_parser', 'prompt_toolkit.input.ansi_escape_sequences', 'prompt_toolkit.key_binding.digraphs', 'prompt_toolkit.key_binding.emacs_state', 'prompt_toolkit.layout.dummy', 'prompt_toolkit.renderer', 'prompt_toolkit.application.dummy', 'prompt_toolkit.shortcuts', 'prompt_toolkit.shortcuts.dialogs', 'prompt_toolkit.key_binding.bindings.focus', 'prompt_toolkit.widgets', 'prompt_toolkit.widgets.base', 'prompt_toolkit.widgets.toolbars', 'prompt_toolkit.widgets.dialogs', 'prompt_toolkit.widgets.menus', 'prompt_toolkit.shortcuts.progress_bar', 'prompt_toolkit.shortcuts.progress_bar.base', 'prompt_toolkit.shortcuts.progress_bar.formatters', 'prompt_toolkit.shortcuts.prompt', 'prompt_toolkit.key_binding.bindings.auto_suggest', 'prompt_toolkit.key_binding.bindings.open_in_editor', 'prompt_toolkit.shortcuts.utils', 'pygments.style', 'IPython.terminal.debugger', 'IPython.core.completer', 'unicodedata', 'IPython.core.latex_symbols', 'IPython.utils.generics', 'jedi', 'jedi.api', 'parso', 'parso.parser', 'parso.tree', 'parso.utils', 'parso.pgen2', 'parso.pgen2.generator', 'parso.pgen2.grammar_parser', 'parso.python', 'parso.python.tokenize', 'parso.python.token', 'parso.grammar', 'parso._compatibility', 'parso.python.diff', 'difflib', 'parso.python.parser', 'parso.python.tree', 'parso.python.prefix', 'parso.cache', 'gc', 'parso.python.errors', 'parso.normalizer', 'parso.python.pep8', 'parso.file_io', 'jedi._compatibility', 'jedi.parser_utils', 'jedi.debug', 'jedi.settings', 'jedi.cache', 'jedi.file_io', 'jedi.api.classes', 'jedi.inference', 'jedi.inference.imports', 'jedi.inference.sys_path', 'jedi.inference.cache', 'jedi.inference.base_value', 'jedi.inference.helpers', 'jedi.inference.utils', 'jedi.inference.compiled', 'jedi.inference.compiled.value', 'jedi.inference.filters', 'jedi.inference.flow_analysis', 'jedi.inference.recursion', 'jedi.inference.names', 'jedi.inference.docstrings', 'jedi.common', 'jedi.inference.lazy_value', 'jedi.plugins', 'jedi.inference.compiled.access', 'jedi.inference.compiled.getattr_static', 'jedi.inference.signature', 'jedi.inference.context', 'jedi.inference.analysis', 'jedi.inference.gradual', 'jedi.inference.gradual.typeshed', 'jedi.inference.gradual.stub_value', 'jedi.inference.value', 'jedi.inference.value.module', 'jedi.inference.value.klass', 'jedi.inference.arguments', 'jedi.inference.value.iterable', 'jedi.inference.value.dynamic_arrays', 'jedi.inference.value.function', 'jedi.inference.parser_cache', 'jedi.inference.gradual.generics', 'jedi.inference.value.instance', 'jedi.inference.gradual.typing', 'jedi.inference.gradual.base', 'jedi.inference.gradual.type_var', 'jedi.inference.compiled.subprocess', 'jedi.inference.compiled.subprocess.functions', 'jedi.api.exceptions', 'jedi.inference.syntax_tree', 'jedi.inference.gradual.annotation', 'jedi.inference.param', 'jedi.inference.value.decorator', 'jedi.inference.compiled.mixed', 'jedi.inference.gradual.conversion', 'jedi.api.keywords', 'pydoc_data', 'pydoc_data.topics', 'jedi.api.completion_cache', 'jedi.api.helpers', 'jedi.api.interpreter', 'jedi.api.completion', 'jedi.api.strings', 'jedi.api.file_name', 'jedi.api.environment', 'filecmp', 'jedi.api.project', 'jedi.inference.references', 'jedi.api.errors', 'jedi.api.refactoring', 'jedi.api.refactoring.extract', 'jedi.inference.gradual.utils', 'jedi.plugins.registry', 'jedi.plugins.stdlib', 'jedi.plugins.flask', 'jedi.plugins.pytest', 'jedi.plugins.django', 'IPython.terminal.ptutils', 'IPython.terminal.shortcuts', 'IPython.terminal.magics', 'IPython.lib.clipboard', 'IPython.terminal.pt_inputhooks', 'IPython.terminal.prompts', 'IPython.terminal.ipapp', 'IPython.core.magics', 'IPython.core.magics.auto', 'IPython.core.magics.basic', 'IPython.core.magics.code', 'urllib.request', 'email', 'http', 'http.client', 'email.parser', 'email.feedparser', 'email.errors', 'email._policybase', 'email.header', 'email.quoprimime', 'email.base64mime', 'email.charset', 'email.encoders', 'quopri', 'email.utils', 'email._parseaddr', 'calendar', 'email.message', 'uu', 'email._encoded_words', 'email.iterators', 'urllib.error', 'urllib.response', 'IPython.core.magics.config', 'IPython.core.magics.display', 'IPython.core.magics.execution', 'timeit', 'cProfile', '_lsprof', 'profile', 'optparse', 'pstats', 'IPython.utils.module_paths', 'IPython.utils.timing', 'IPython.core.magics.extension', 'IPython.core.magics.history', 'IPython.core.magics.logging', 'IPython.core.magics.namespace', 'IPython.core.magics.osm', 'IPython.core.magics.packaging', 'IPython.core.magics.pylab', 'IPython.core.pylabtools', 'IPython.core.magics.script', 'IPython.lib.backgroundjobs', 'IPython.core.shellapp', 'IPython.extensions', 'IPython.extensions.storemagic', 'IPython.utils.frame', 'jupyter_client', 'jupyter_client._version', 'jupyter_client.connect', 'zmq', 'ctypes', '_ctypes', 'ctypes._endian', 'zmq.backend', 'zmq.backend.select', 'zmq.backend.cython', 'zmq.backend.cython.constants', 'cython_runtime', 'zmq.backend.cython.error', '_cython_0_29_21', 'zmq.backend.cython.message', 'zmq.error', 'zmq.backend.cython.context', 'zmq.backend.cython.socket', 'zmq.backend.cython.utils', 'zmq.backend.cython._poll', 'zmq.backend.cython._version', 'zmq.backend.cython._device', 'zmq.backend.cython._proxy_steerable', 'zmq.sugar', 'zmq.sugar.constants', 'zmq.utils', 'zmq.utils.constant_names', 'zmq.sugar.context', 'zmq.sugar.attrsettr', 'zmq.sugar.socket', 'zmq.sugar.poll', 'zmq.utils.jsonapi', 'zmq.utils.strtypes', 'simplejson', 'decimal', 'numbers', '_decimal', 'simplejson.errors', 'simplejson.raw_json', 'simplejson.decoder', 'simplejson.compat', 'simplejson.scanner', 'simplejson._speedups', 'simplejson.encoder', 'zmq.sugar.frame', 'zmq.sugar.tracker', 'zmq.sugar.version', 'zmq.sugar.stopwatch', 'jupyter_client.localinterfaces', 'jupyter_core', 'jupyter_core.version', 'jupyter_core.paths', 'jupyter_client.launcher', 'traitlets.log', 'jupyter_client.client', 'jupyter_client.channels', 'jupyter_client.channelsabc', 'jupyter_client.clientabc', 'jupyter_client.manager', 'jupyter_client.kernelspec', 'jupyter_client.managerabc', 'jupyter_client.blocking', 'jupyter_client.blocking.client', 'jupyter_client.blocking.channels', 'jupyter_client.asynchronous', 'jupyter_client.asynchronous.client', 'zmq.asyncio', 'zmq._future', 'jupyter_client.asynchronous.channels', 'jupyter_client.multikernelmanager', 'uuid', 'ctypes.util', 'ipykernel.kernelapp', 'tornado', 'tornado.ioloop', 'tornado.concurrent', 'tornado.log', 'logging.handlers', 'tornado.escape', 'tornado.util', 'tornado.speedups', 'curses', '_curses', 'zmq.eventloop', 'zmq.eventloop.ioloop', 'tornado.platform', 'tornado.platform.asyncio', 'tornado.gen', 'zmq.eventloop.zmqstream', 'ipykernel.iostream', 'imp', 'jupyter_client.session', 'hmac', 'jupyter_client.jsonutil', 'dateutil', 'dateutil._version', 'dateutil.parser', 'dateutil.parser._parser', 'dateutil.relativedelta', 'dateutil._common', 'dateutil.tz', 'dateutil.tz.tz', 'six.moves', 'dateutil.tz._common', 'dateutil.tz._factories', 'dateutil.parser.isoparser', '_strptime', 'jupyter_client.adapter', 'ipykernel.heartbeat', 'ipykernel.ipkernel', 'IPython.utils.tokenutil', 'ipykernel.comm', 'ipykernel.comm.manager', 'ipykernel.comm.comm', 'ipykernel.kernelbase', 'tornado.queues', 'tornado.locks', 'ipykernel.jsonutil', 'ipykernel.zmqshell', 'IPython.core.payloadpage', 'ipykernel.displayhook', 'ipykernel.datapub', 'ipykernel.serialize', 'ipykernel.pickleutil', 'ipykernel.codeutil', 'ipykernel.eventloops', 'distutils', 'distutils.version', 'ipykernel.parentpoller', 'faulthandler', 'IPython.core.completerlib', 'storemagic', 'convlab2', 'convlab2.nlu', 'convlab2.nlu.nlu', 'convlab2.util', 'convlab2.util.module', 'convlab2.dst', 'convlab2.dst.dst', 'convlab2.policy', 'convlab2.policy.policy', 'convlab2.nlg', 'convlab2.nlg.nlg', 'convlab2.dialog_agent', 'convlab2.dialog_agent.agent', 'convlab2.dialog_agent.session', 'convlab2.nlu.jointBERT', 'convlab2.nlu.jointBERT.multiwoz', 'convlab2.nlu.jointBERT.multiwoz.nlu', 'zipfile', 'torch', 'torch._utils', 'torch._utils_internal', 'torch.version', 'torch._six', 'torch._C._onnx', 'torch._C._jit_tree_views', 'torch._C.cpp', 'torch._C.cpp.nn', 'torch._C._cudart', 'torch._C._nvtx', 'torch._C._cudnn', 'numpy', 'numpy._globals', 'numpy.__config__', 'numpy.version', 'numpy._distributor_init', 'numpy.core', 'numpy.core.multiarray', 'numpy.core.overrides', 'numpy.core._multiarray_umath', 'numpy.compat', 'numpy.compat._inspect', 'numpy.compat.py3k', 'numpy.core.umath', 'numpy.core.numerictypes', 'numpy.core._string_helpers', 'numpy.core._type_aliases', 'numpy.core._dtype', 'numpy.core.numeric', 'numpy.core.shape_base', 'numpy.core._asarray', 'numpy.core.fromnumeric', 'numpy.core._methods', 'numpy.core._exceptions', 'numpy.core._ufunc_config', 'numpy.core.arrayprint', 'numpy.core.defchararray', 'numpy.core.records', 'numpy.core.memmap', 'numpy.core.function_base', 'numpy.core.machar', 'numpy.core.getlimits', 'numpy.core.einsumfunc', 'numpy.core._add_newdocs', 'numpy.core._multiarray_tests', 'numpy.core._dtype_ctypes', 'numpy.core._internal', 'numpy._pytesttester', 'numpy.lib', 'numpy.lib.mixins', 'numpy.lib.scimath', 'numpy.lib.type_check', 'numpy.lib.ufunclike', 'numpy.lib.index_tricks', 'numpy.matrixlib', 'numpy.matrixlib.defmatrix', 'numpy.linalg', 'numpy.linalg.linalg', 'numpy.lib.twodim_base', 'numpy.linalg.lapack_lite', 'numpy.linalg._umath_linalg', 'numpy.lib.function_base', 'numpy.lib.histograms', 'numpy.lib.stride_tricks', 'numpy.lib.nanfunctions', 'numpy.lib.shape_base', 'numpy.lib.polynomial', 'numpy.lib.utils', 'numpy.lib.arraysetops', 'numpy.lib.npyio', 'numpy.lib.format', 'numpy.lib._datasource', 'numpy.lib._iotools', 'numpy.lib.financial', 'numpy.lib.arrayterator', 'numpy.lib.arraypad', 'numpy.lib._version', 'numpy.fft', 'numpy.fft._pocketfft', 'numpy.fft._pocketfft_internal', 'numpy.fft.helper', 'numpy.polynomial', 'numpy.polynomial.polynomial', 'numpy.polynomial.polyutils', 'numpy.polynomial._polybase', 'numpy.polynomial.chebyshev', 'numpy.polynomial.legendre', 'numpy.polynomial.hermite', 'numpy.polynomial.hermite_e', 'numpy.polynomial.laguerre', 'numpy.random', 'numpy.random._pickle', 'numpy.random.mtrand', 'numpy.random.bit_generator', 'numpy.random._common', 'secrets', 'numpy.random._bounded_integers', 'numpy.random._mt19937', 'numpy.random._philox', 'numpy.random._pcg64', 'numpy.random._sfc64', 'numpy.random._generator', 'numpy.ctypeslib', 'numpy.ma', 'numpy.ma.core', 'numpy.ma.extras', 'numpy.testing', 'unittest', 'unittest.result', 'unittest.util', 'unittest.case', 'unittest.suite', 'unittest.loader', 'unittest.main', 'unittest.runner', 'unittest.signals', 'numpy.testing._private', 'numpy.testing._private.utils', 'numpy.testing._private.decorators', 'numpy.testing._private.nosetester', 'torch._C', 'torch.random', 'torch.serialization', 'tarfile', 'torch._tensor_str', 'torch.tensor', 'torch._namedtensor_internals', 'torch.utils', 'torch.utils.throughput_benchmark', 'torch.utils.hooks', 'torch.storage', 'torch.cuda', 'torch.cuda._utils', 'torch.cuda.memory', 'torch.cuda.random', 'torch.cuda.sparse', 'torch.cuda.profiler', 'torch.cuda.nvtx', 'torch.cuda.streams', 'torch.cuda.amp', 'torch.cuda.amp.grad_scaler', 'torch.sparse', 'torch.functional', 'torch.nn', 'torch.nn.modules', 'torch.nn.modules.module', 'torch.nn.parameter', 'torch.nn.modules.linear', 'torch.nn.functional', 'torch.nn._reduction', 'torch.nn.modules.utils', 'torch.nn.grad', 'torch._VF', 'torch._jit_internal', 'typing_extensions', 'torch._overrides', 'torch.nn.init', 'torch.nn.modules.conv', 'torch.nn.modules.activation', 'torch.nn.modules.loss', 'torch.nn.modules.container', 'torch.nn.modules.pooling', 'torch.nn.modules.batchnorm', 'torch.nn.modules._functions', 'torch.autograd', 'torch.autograd.variable', 'torch.autograd.function', 'torch.autograd.gradcheck', 'torch.testing', 'torch.autograd.grad_mode', 'torch.autograd.anomaly_mode', 'torch.autograd.profiler', 'torch.autograd.functional', 'torch.nn.modules.instancenorm', 'torch.nn.modules.normalization', 'torch.nn.modules.dropout', 'torch.nn.modules.padding', 'torch.nn.modules.sparse', 'torch.nn.modules.rnn', 'torch.nn.utils', 'torch.nn.utils.rnn', 'torch.nn.utils.clip_grad', 'torch.nn.utils.weight_norm', 'torch.nn.utils.convert_parameters', 'torch.nn.utils.spectral_norm', 'torch.nn.utils.fusion', 'torch.nn.utils.memory_format', 'torch.nn.modules.pixelshuffle', 'torch.nn.modules.upsampling', 'torch.nn.modules.distance', 'torch.nn.modules.fold', 'torch.nn.modules.adaptive', 'torch.nn.modules.transformer', 'torch.nn.modules.flatten', 'torch.nn.parallel', 'torch.nn.parallel.parallel_apply', 'torch.nn.parallel.replicate', 'torch.cuda.comm', 'torch.cuda.nccl', 'torch.nn.parallel.data_parallel', 'torch.nn.parallel.scatter_gather', 'torch.nn.parallel._functions', 'torch.nn.parallel.distributed', 'torch.distributed', 'torch.distributed.distributed_c10d', 'torch.distributed.constants', 'torch.distributed.rendezvous', 'torch._lowrank', 'torch._linalg_utils', 'torch.nn.intrinsic', 'torch.nn.intrinsic.modules', 'torch.nn.intrinsic.modules.fused', 'torch.nn.quantized', 'torch.nn.quantized.modules', 'torch.nn.quantized.modules.activation', 'torch.nn.quantized.functional', 'torch.nn.quantized.modules.batchnorm', 'torch.nn.quantized.modules.conv', 'torch.nn.intrinsic.qat', 'torch.nn.intrinsic.qat.modules', 'torch.nn.intrinsic.qat.modules.linear_relu', 'torch.nn.qat', 'torch.nn.qat.modules', 'torch.nn.qat.modules.linear', 'torch.nn.qat.modules.conv', 'torch.nn.intrinsic.qat.modules.conv_fused', 'torch._ops', 'torch.jit', 'torch.jit.annotations', 'torch.jit._recursive', 'torch.jit.frontend', 'torch.jit._builtins', 'torch.backends', 'torch.backends.cudnn', 'torch.distributed.autograd', 'torch.nn.quantized.modules.utils', 'torch.nn.quantized.modules.linear', 'torch.nn.quantized.modules.functional_modules', 'torch.optim', 'torch.optim.adadelta', 'torch.optim.optimizer', 'torch.optim.adagrad', 'torch.optim.adam', 'torch.optim.adamw', 'torch.optim.sparse_adam', 'torch.optim.adamax', 'torch.optim.asgd', 'torch.optim.sgd', 'torch.optim.rprop', 'torch.optim.rmsprop', 'torch.optim.lbfgs', 'torch.optim.lr_scheduler', 'torch.multiprocessing', 'torch.multiprocessing.reductions', 'multiprocessing.resource_sharer', 'torch.multiprocessing.spawn', 'torch.utils.backcompat', 'torch.onnx', 'torch.hub', 'tqdm', 'tqdm.std', 'tqdm.utils', 'tqdm._monitor', 'tqdm.gui', 'tqdm._tqdm_pandas', 'tqdm.cli', 'tqdm._version', 'tqdm.auto', 'tqdm.autonotebook', 'tqdm.notebook', 'ipywidgets', 'ipywidgets._version', 'ipywidgets.widgets', 'ipywidgets.widgets.widget', 'ipywidgets.widgets.domwidget', 'ipywidgets.widgets.trait_types', 'ipywidgets.widgets.util', 'ipywidgets.widgets.widget_layout', 'ipywidgets.widgets.widget_style', 'ipywidgets.widgets.valuewidget', 'ipywidgets.widgets.widget_core', 'ipywidgets.widgets.widget_bool', 'ipywidgets.widgets.widget_description', 'ipywidgets.widgets.widget_button', 'ipywidgets.widgets.widget_box', 'ipywidgets.widgets.docutils', 'ipywidgets.widgets.widget_float', 'ipywidgets.widgets.widget_int', 'ipywidgets.widgets.widget_color', 'ipywidgets.widgets.widget_date', 'ipywidgets.widgets.widget_output', 'ipywidgets.widgets.widget_selection', 'ipywidgets.widgets.widget_selectioncontainer', 'ipywidgets.widgets.widget_string', 'ipywidgets.widgets.widget_controller', 'ipywidgets.widgets.interaction', 'ipywidgets.widgets.widget_link', 'ipywidgets.widgets.widget_media', 'ipywidgets.widgets.widget_templates', 'ipywidgets.widgets.widget_upload', 'tqdm.asyncio', 'torch.distributions', 'torch.distributions.bernoulli', 'torch.distributions.constraints', 'torch.distributions.exp_family', 'torch.distributions.distribution', 'torch.distributions.utils', 'torch.distributions.beta', 'torch.distributions.dirichlet', 'torch.distributions.binomial', 'torch.distributions.categorical', 'torch.distributions.cauchy', 'torch.distributions.chi2', 'torch.distributions.gamma', 'torch.distributions.constraint_registry', 'torch.distributions.transforms', 'torch.distributions.continuous_bernoulli', 'torch.distributions.exponential', 'torch.distributions.fishersnedecor', 'torch.distributions.geometric', 'torch.distributions.gumbel', 'torch.distributions.uniform', 'torch.distributions.transformed_distribution', 'torch.distributions.half_cauchy', 'torch.distributions.half_normal', 'torch.distributions.normal', 'torch.distributions.independent', 'torch.distributions.kl', 'torch.distributions.laplace', 'torch.distributions.lowrank_multivariate_normal', 'torch.distributions.multivariate_normal', 'torch.distributions.one_hot_categorical', 'torch.distributions.pareto', 'torch.distributions.poisson', 'torch.distributions.log_normal', 'torch.distributions.logistic_normal', 'torch.distributions.mixture_same_family', 'torch.distributions.multinomial', 'torch.distributions.negative_binomial', 'torch.distributions.relaxed_bernoulli', 'torch.distributions.relaxed_categorical', 'torch.distributions.studentT', 'torch.distributions.von_mises', 'torch.distributed.rpc', 'torch.distributed.rpc.api', 'torch.distributed.rpc.backend_registry', 'torch.distributed.rpc.constants', 'torch.distributed.rpc.internal', 'torch.distributions.weibull', 'torch.backends.cuda', 'torch.backends.mkl', 'torch.backends.mkldnn', 'torch.backends.openmp', 'torch.backends.quantized', 'torch.quantization', 'torch.quantization.quantize', 'torch.quantization.default_mappings', 'torch.nn.intrinsic.quantized', 'torch.nn.intrinsic.quantized.modules', 'torch.nn.intrinsic.quantized.modules.linear_relu', 'torch.nn.intrinsic.quantized.modules.conv_relu', 'torch.nn.quantized.dynamic', 'torch.nn.quantized.dynamic.modules', 'torch.nn.quantized.dynamic.modules.linear', 'torch.nn.quantized.dynamic.modules.rnn', 'torch.quantization.stubs', 'torch.quantization.qconfig', 'torch.quantization.observer', 'torch.quantization.fake_quantize', 'torch.quantization.fuse_modules', 'torch.utils.data', 'torch.utils.data.sampler', 'torch.utils.data.distributed', 'torch.utils.data.dataset', 'torch.utils.data.dataloader', 'torch.utils.data._utils', 'torch.utils.data._utils.worker', 'torch.utils.data._utils.signal_handling', 'torch.utils.data._utils.pin_memory', 'torch.utils.data._utils.collate', 'torch.utils.data._utils.fetch', 'torch.__config__', 'torch.__future__', 'torch._torch_docs', 'torch._tensor_docs', 'torch._storage_docs', 'torch._classes', 'torch.quasirandom', 'torch.multiprocessing._atfork', 'torch._lobpcg', 'unidecode', 'spacy', 'thinc', 'thinc.about', 'thinc.neural', 'thinc.neural._classes', 'thinc.neural._classes.model', 'srsly', 'srsly._json_api', 'gzip', 'srsly.ujson', 'srsly.ujson.ujson', 'srsly.util', 'srsly._msgpack_api', 'srsly.msgpack', 'srsly.msgpack._version', 'srsly.msgpack.exceptions', 'srsly.msgpack._packer', 'srsly.msgpack._ext_type', 'srsly.msgpack.util', 'srsly.msgpack._unpacker', 'srsly.msgpack._msgpack_numpy', 'srsly._pickle_api', 'srsly.cloudpickle', 'srsly.cloudpickle.cloudpickle', 'thinc.neural.util', 'thinc.neural.train', 'thinc.neural.optimizers', '_cython_0_29_12', 'thinc.neural.ops', 'cymem', 'cymem.about', 'cymem.cymem', 'preshed', 'preshed.about', 'preshed.maps', '_cython_0_29', 'thinc.linalg', 'blis', 'blis.cy', '_cython_0_29_6', 'blis.py', 'murmurhash', 'murmurhash.about', 'murmurhash.mrmr', 'thinc.neural._aligned_alloc', 'thinc.compat', 'thinc.neural.mem', 'thinc.check', 'thinc.extra', 'thinc.extra.wrapt', 'thinc.extra.wrapt.wrappers', 'thinc.extra.wrapt._wrappers', 'thinc.extra.wrapt.decorators', 'thinc.extra.wrapt.importer', 'thinc.exceptions', 'wasabi', 'wasabi.printer', 'wasabi.tables', 'wasabi.util', 'wasabi.traceback_printer', 'wasabi.markdown', 'spacy.cli', 'spacy.cli.download', 'plac', 'plac_core', 'plac_ext', 'asyncore', 'asynchat', 'requests', 'urllib3', 'urllib3.connectionpool', 'urllib3.exceptions', 'urllib3.packages', 'urllib3.packages.ssl_match_hostname', 'urllib3.packages.six', 'urllib3.packages.six.moves', 'urllib3.packages.six.moves.http_client', 'urllib3.connection', 'urllib3.util', 'urllib3.util.connection', 'urllib3.util.wait', 'urllib3.contrib', 'urllib3.contrib._appengine_environ', 'urllib3.util.request', 'brotli', 'brotli.brotli', '_cffi_backend', '_brotli.lib', '_brotli', 'brotli._brotli', 'urllib3.util.response', 'urllib3.util.ssl_', 'urllib3.util.url', 'urllib3.util.timeout', 'urllib3.util.retry', 'urllib3._collections', 'urllib3.request', 'urllib3.filepost', 'urllib3.fields', 'urllib3.packages.six.moves.urllib', 'urllib3.packages.six.moves.urllib.parse', 'urllib3.response', 'urllib3.util.queue', 'urllib3.poolmanager', 'urllib3._version', 'chardet', 'chardet.compat', 'chardet.universaldetector', 'chardet.charsetgroupprober', 'chardet.enums', 'chardet.charsetprober', 'chardet.escprober', 'chardet.codingstatemachine', 'chardet.escsm', 'chardet.latin1prober', 'chardet.mbcsgroupprober', 'chardet.utf8prober', 'chardet.mbcssm', 'chardet.sjisprober', 'chardet.mbcharsetprober', 'chardet.chardistribution', 'chardet.euctwfreq', 'chardet.euckrfreq', 'chardet.gb2312freq', 'chardet.big5freq', 'chardet.jisfreq', 'chardet.jpcntx', 'chardet.eucjpprober', 'chardet.gb2312prober', 'chardet.euckrprober', 'chardet.cp949prober', 'chardet.big5prober', 'chardet.euctwprober', 'chardet.sbcsgroupprober', 'chardet.sbcharsetprober', 'chardet.langcyrillicmodel', 'chardet.langgreekmodel', 'chardet.langbulgarianmodel', 'chardet.langthaimodel', 'chardet.langhebrewmodel', 'chardet.hebrewprober', 'chardet.langturkishmodel', 'chardet.version', 'requests.exceptions', 'requests.__version__', 'requests.utils', 'requests.certs', 'certifi', 'certifi.core', 'requests._internal_utils', 'requests.compat', 'http.cookiejar', 'http.cookies', 'requests.cookies', 'requests.structures', 'requests.packages', 'requests.packages.urllib3', 'requests.packages.urllib3.connectionpool', 'requests.packages.urllib3.exceptions', 'requests.packages.urllib3.packages', 'requests.packages.urllib3.packages.ssl_match_hostname', 'requests.packages.urllib3.packages.six', 'requests.packages.urllib3.packages.six.moves', 'requests.packages.urllib3.packages.six.moves.http_client', 'requests.packages.urllib3.connection', 'requests.packages.urllib3.util', 'requests.packages.urllib3.util.connection', 'requests.packages.urllib3.util.wait', 'requests.packages.urllib3.contrib', 'requests.packages.urllib3.contrib._appengine_environ', 'requests.packages.urllib3.util.request', 'requests.packages.urllib3.util.response', 'requests.packages.urllib3.util.ssl_', 'requests.packages.urllib3.util.url', 'requests.packages.urllib3.util.timeout', 'requests.packages.urllib3.util.retry', 'requests.packages.urllib3._collections', 'requests.packages.urllib3.request', 'requests.packages.urllib3.filepost', 'requests.packages.urllib3.fields', 'requests.packages.urllib3.packages.six.moves.urllib', 'requests.packages.urllib3.packages.six.moves.urllib.parse', 'requests.packages.urllib3.response', 'requests.packages.urllib3.util.queue', 'requests.packages.urllib3.poolmanager', 'requests.packages.urllib3._version', 'idna', 'idna.package_data', 'idna.core', 'idna.idnadata', 'idna.intranges', 'requests.packages.idna', 'requests.packages.idna.package_data', 'requests.packages.idna.core', 'requests.packages.idna.idnadata', 'requests.packages.idna.intranges', 'requests.packages.chardet', 'requests.packages.chardet.compat', 'requests.packages.chardet.universaldetector', 'requests.packages.chardet.charsetgroupprober', 'requests.packages.chardet.enums', 'requests.packages.chardet.charsetprober', 'requests.packages.chardet.escprober', 'requests.packages.chardet.codingstatemachine', 'requests.packages.chardet.escsm', 'requests.packages.chardet.latin1prober', 'requests.packages.chardet.mbcsgroupprober', 'requests.packages.chardet.utf8prober', 'requests.packages.chardet.mbcssm', 'requests.packages.chardet.sjisprober', 'requests.packages.chardet.mbcharsetprober', 'requests.packages.chardet.chardistribution', 'requests.packages.chardet.euctwfreq', 'requests.packages.chardet.euckrfreq', 'requests.packages.chardet.gb2312freq', 'requests.packages.chardet.big5freq', 'requests.packages.chardet.jisfreq', 'requests.packages.chardet.jpcntx', 'requests.packages.chardet.eucjpprober', 'requests.packages.chardet.gb2312prober', 'requests.packages.chardet.euckrprober', 'requests.packages.chardet.cp949prober', 'requests.packages.chardet.big5prober', 'requests.packages.chardet.euctwprober', 'requests.packages.chardet.sbcsgroupprober', 'requests.packages.chardet.sbcharsetprober', 'requests.packages.chardet.langcyrillicmodel', 'requests.packages.chardet.langgreekmodel', 'requests.packages.chardet.langbulgarianmodel', 'requests.packages.chardet.langthaimodel', 'requests.packages.chardet.langhebrewmodel', 'requests.packages.chardet.hebrewprober', 'requests.packages.chardet.langturkishmodel', 'requests.packages.chardet.version', 'requests.models', 'encodings.idna', 'stringprep', 'requests.hooks', 'requests.auth', 'requests.status_codes', 'requests.api', 'requests.sessions', 'requests.adapters', 'urllib3.contrib.socks', 'socks', 'pkg_resources', 'plistlib', 'xml.parsers', 'xml.parsers.expat', 'pyexpat.errors', 'pyexpat.model', 'pyexpat', 'xml.parsers.expat.model', 'xml.parsers.expat.errors', 'pkg_resources.extern', 'pkg_resources._vendor', 'pkg_resources._vendor.appdirs', 'pkg_resources.extern.appdirs', 'pkg_resources._vendor.packaging', 'pkg_resources._vendor.packaging.__about__', 'pkg_resources.extern.packaging', 'pkg_resources.extern.packaging.version', 'pkg_resources.extern.packaging._structures', 'pkg_resources.extern.packaging._typing', 'pkg_resources.extern.packaging.specifiers', 'pkg_resources.extern.packaging._compat', 'pkg_resources.extern.packaging.utils', 'pkg_resources.extern.packaging.requirements', 'pkg_resources._vendor.pyparsing', 'pkg_resources.extern.pyparsing', 'pkg_resources.extern.packaging.markers', 'spacy.cli.link', 'spacy.compat', 'spacy.util', 'jsonschema', 'jsonschema.exceptions', 'attr', 'attr.converters', 'attr._make', 'attr._config', 'attr.setters', 'attr.exceptions', 'attr._compat', 'attr.filters', 'attr.validators', 'attr._funcs', 'attr._version_info', 'attr._next_gen', 'jsonschema._utils', 'jsonschema.compat', 'jsonschema._format', 'jsonpointer', 'jsonschema._types', 'pyrsistent', 'pyrsistent._pmap', 'pyrsistent._pvector', 'pyrsistent._transformations', 'pvectorc', 'pyrsistent._pset', 'pyrsistent._pbag', 'pyrsistent._plist', 'pyrsistent._pdeque', 'pyrsistent._checked_types', 'pyrsistent._field_common', 'pyrsistent._precord', 'pyrsistent._pclass', 'pyrsistent._immutable', 'pyrsistent._helpers', 'pyrsistent._toolz', 'jsonschema.validators', 'jsonschema._legacy_validators', 'jsonschema._validators', 'importlib_metadata', 'csv', '_csv', 'zipp', 'importlib_metadata._compat', 'configparser', 'spacy.symbols', 'spacy.errors', 'spacy.about', 'spacy.cli.info', 'spacy.cli.package', 'spacy.cli.profile', 'thinc.extra.datasets', 'thinc.extra._vendorized', 'thinc.extra._vendorized.keras_data_utils', 'thinc.extra._vendorized.keras_generic_utils', 'spacy.cli.train', 'spacy._ml', 'thinc.v2v', 'thinc.neural._classes.affine', 'thinc.describe', 'thinc.neural._classes.relu', 'thinc.neural._classes.maxout', 'thinc.neural._classes.softmax', 'thinc.neural._classes.selu', 'thinc.i2v', 'thinc.neural._classes.hash_embed', 'thinc.neural._lsuv', 'thinc.neural._classes.embed', 'thinc.neural._classes.static_vectors', 'thinc.extra.load_nlp', 'thinc.t2t', 'thinc.neural._classes.convolution', 'thinc.neural._classes.attention', 'thinc.neural._classes.rnn', 'thinc.api', 'thinc.neural._classes.function_layer', 'thinc.neural._classes.feed_forward', 'thinc.neural._classes.multiheaded_attention', 'thinc.t2v', 'thinc.neural.pooling', 'thinc.misc', 'thinc.neural._classes.batchnorm', 'thinc.neural._classes.layernorm', 'thinc.neural._classes.resnet', 'thinc.neural._classes.feature_extracter', 'thinc.linear', 'thinc.linear.linear', 'spacy.attrs', '_cython_0_29_13', 'thinc.extra.wrappers', 'torch.utils.dlpack', 'spacy.gold', 'spacy.strings', 'spacy.morphology', 'spacy.vocab', 'spacy.lexeme', 'spacy.tokens', 'spacy.tokens.doc', 'spacy.tokens.span', 'spacy.tokens.token', 'spacy.parts_of_speech', 'spacy.tokens.underscore', 'spacy.tokens._retokenize', 'spacy.lemmatizer', 'spacy.vectors', 'spacy.syntax', 'spacy.syntax.stateclass', 'spacy.syntax.transition_system', 'thinc.extra.search', 'spacy.syntax._beam_utils', 'spacy._align', 'spacy.syntax.nonproj', 'spacy.cli.pretrain', 'spacy.cli.debug_data', 'spacy.cli.evaluate', 'spacy.displacy', 'spacy.displacy.render', 'spacy.displacy.templates', 'spacy.cli.convert', 'spacy.cli.converters', 'spacy.cli.converters.conllu2json', 'spacy.cli.converters.iob2json', 'spacy.cli.converters.conll_ner2json', 'spacy.cli.converters.jsonl2json', 'spacy.cli.init_model', 'preshed.counter', 'ftfy', 'ftfy.bad_codecs', 'ftfy.fixes', 'ftfy.badness', 'ftfy.chardata', 'ftfy.char_classes', 'ftfy.bad_codecs.sloppy', 'encodings.cp1250', 'encodings.cp1251', 'encodings.cp1252', 'encodings.cp1253', 'encodings.cp1254', 'encodings.cp1255', 'encodings.cp1256', 'encodings.cp1257', 'encodings.cp1258', 'encodings.iso8859_3', 'encodings.iso8859_6', 'encodings.iso8859_7', 'encodings.iso8859_8', 'encodings.iso8859_11', 'encodings.cp874', 'encodings.iso8859_2', 'encodings.mac_roman', 'encodings.cp437', 'ftfy.formatting', 'spacy.cli.validate', 'spacy.glossary', 'convlab2.util.file_util', 'convlab2.util.allennlp_file_utils', 'boto3', 'boto3.session', 'botocore', 'botocore.session', 'botocore.configloader', 'botocore.compat', 'botocore.vendored', 'botocore.vendored.six', 'botocore.exceptions', 'botocore.vendored.requests', 'botocore.vendored.requests.exceptions', 'botocore.vendored.requests.packages', 'botocore.vendored.requests.packages.urllib3', 'botocore.vendored.requests.packages.urllib3.exceptions', 'botocore.vendored.six.moves', 'xml.etree', 'xml.etree.cElementTree', 'xml.etree.ElementTree', 'xml.etree.ElementPath', '_elementtree', 'botocore.credentials', 'botocore.config', 'botocore.endpoint', 'botocore.awsrequest', 'botocore.utils', 'cgi', 'botocore.httpsession', 'urllib3.contrib.pyopenssl', 'OpenSSL', 'OpenSSL.crypto', 'cryptography', 'cryptography.__about__', 'cryptography.utils', 'cryptography.x509', 'cryptography.x509.certificate_transparency', 'cryptography.x509.base', 'cryptography.hazmat', 'cryptography.hazmat.backends', 'cryptography.hazmat.primitives', 'cryptography.hazmat.primitives.asymmetric', 'cryptography.hazmat.primitives.asymmetric.dsa', 'cryptography.hazmat.primitives.asymmetric.ec', 'cryptography.hazmat._oid', 'cryptography.hazmat.primitives.asymmetric.ed25519', 'cryptography.exceptions', 'cryptography.hazmat.primitives.asymmetric.ed448', 'cryptography.hazmat.primitives.asymmetric.rsa', 'cryptography.hazmat.backends.interfaces', 'cryptography.x509.extensions', 'cryptography.hazmat._der', 'cryptography.hazmat.primitives.constant_time', 'cryptography.hazmat.primitives.serialization', 'cryptography.hazmat.primitives.serialization.base', 'cryptography.hazmat.primitives.serialization.ssh', 'cryptography.hazmat.primitives.ciphers', 'cryptography.hazmat.primitives.ciphers.base', 'cryptography.hazmat.primitives.ciphers.modes', 'cryptography.hazmat.primitives.ciphers.algorithms', 'cryptography.x509.general_name', 'cryptography.x509.name', 'cryptography.x509.oid', 'cryptography.hazmat.primitives.hashes', 'OpenSSL._util', 'cryptography.hazmat.bindings', 'cryptography.hazmat.bindings.openssl', 'cryptography.hazmat.bindings.openssl.binding', '_openssl.lib', '_openssl', 'cryptography.hazmat.bindings._openssl', 'cryptography.hazmat.bindings.openssl._conditional', 'OpenSSL.SSL', 'OpenSSL.version', 'cryptography.hazmat.backends.openssl', 'cryptography.hazmat.backends.openssl.backend', 'cryptography.hazmat.backends.openssl.aead', 'cryptography.hazmat.backends.openssl.ciphers', 'cryptography.hazmat.backends.openssl.cmac', 'cryptography.hazmat.backends.openssl.decode_asn1', 'cryptography.hazmat.backends.openssl.dh', 'cryptography.hazmat.primitives.asymmetric.dh', 'cryptography.hazmat.backends.openssl.dsa', 'cryptography.hazmat.backends.openssl.utils', 'cryptography.hazmat.primitives.asymmetric.utils', 'cryptography.hazmat.backends.openssl.ec', 'cryptography.hazmat.backends.openssl.ed25519', 'cryptography.hazmat.backends.openssl.ed448', 'cryptography.hazmat.backends.openssl.encode_asn1', 'cryptography.hazmat.backends.openssl.hashes', 'cryptography.hazmat.backends.openssl.hmac', 'cryptography.hazmat.backends.openssl.ocsp', 'cryptography.hazmat.backends.openssl.x509', 'cryptography.x509.ocsp', 'cryptography.hazmat.backends.openssl.poly1305', 'cryptography.hazmat.backends.openssl.rsa', 'cryptography.hazmat.primitives.asymmetric.padding', 'cryptography.hazmat.backends.openssl.x25519', 'cryptography.hazmat.primitives.asymmetric.x25519', 'cryptography.hazmat.backends.openssl.x448', 'cryptography.hazmat.primitives.asymmetric.x448', 'cryptography.hazmat.primitives.kdf', 'cryptography.hazmat.primitives.kdf.scrypt', 'cryptography.hazmat.primitives.serialization.pkcs7', 'urllib3.packages.backports', 'urllib3.packages.backports.makefile', 'botocore.vendored.six.moves.urllib_parse', 'botocore.vendored.six.moves.urllib', 'botocore.vendored.six.moves.urllib.request', 'botocore.hooks', 'botocore.history', 'botocore.response', 'botocore.parsers', 'botocore.eventstream', 'botocore.client', 'botocore.waiter', 'jmespath', 'jmespath.parser', 'jmespath.lexer', 'jmespath.exceptions', 'jmespath.compat', 'jmespath.ast', 'jmespath.visitor', 'jmespath.functions', 'botocore.docs', 'botocore.docs.service', 'botocore.docs.utils', 'botocore.docs.client', 'botocore.docs.method', 'botocore.docs.params', 'botocore.docs.shape', 'botocore.docs.example', 'botocore.docs.sharedexample', 'botocore.docs.waiter', 'botocore.docs.paginator', 'botocore.docs.bcdoc', 'botocore.docs.bcdoc.restdoc', 'botocore.docs.bcdoc.docstringparser', 'html.parser', '_markupbase', 'botocore.docs.bcdoc.style', 'botocore.docs.docstring', 'botocore.args', 'botocore.serialize', 'botocore.validate', 'botocore.signers', 'botocore.auth', 'botocore.model', 'botocore.paginate', 'botocore.discovery', 'botocore.retries', 'botocore.retries.standard', 'botocore.retries.quota', 'botocore.retries.special', 'botocore.retries.base', 'botocore.retries.adaptive', 'botocore.retries.bucket', 'botocore.retries.throttling', 'botocore.configprovider', 'botocore.errorfactory', 'botocore.handlers', 'botocore.retryhandler', 'botocore.translate', 'botocore.loaders', 'botocore.regions', 'botocore.monitoring', 'boto3.utils', 'boto3.exceptions', 'boto3.resources', 'boto3.resources.factory', 'boto3.resources.action', 'boto3.resources.params', 'boto3.resources.response', 'boto3.resources.model', 'boto3.docs', 'boto3.docs.service', 'boto3.docs.client', 'boto3.docs.resource', 'boto3.docs.base', 'boto3.docs.action', 'boto3.docs.method', 'boto3.docs.utils', 'boto3.docs.waiter', 'boto3.docs.collection', 'boto3.docs.subresource', 'boto3.docs.attr', 'boto3.docs.docstring', 'boto3.resources.base', 'boto3.resources.collection', 'boto3.compat', 'convlab2.nlu.jointBERT.dataloader', 'transformers', 'absl', 'absl.logging', 'absl.flags', 'absl.flags._argument_parser', 'absl.flags._helpers', 'absl.flags._defines', 'absl.flags._exceptions', 'absl.flags._flag', 'absl._collections_abc', 'absl.flags._flagvalues', 'absl.flags._validators', 'absl.logging.converter', 'transformers.configuration_albert', 'transformers.configuration_utils', 'transformers.file_utils', 'filelock', 'transformers.configuration_auto', 'transformers.configuration_bart', 'transformers.configuration_bert', 'transformers.configuration_camembert', 'transformers.configuration_roberta', 'transformers.configuration_ctrl', 'transformers.configuration_distilbert', 'transformers.configuration_electra', 'transformers.configuration_encoder_decoder', 'transformers.configuration_flaubert', 'transformers.configuration_xlm', 'transformers.configuration_gpt2', 'transformers.configuration_longformer', 'transformers.configuration_marian', 'transformers.configuration_openai', 'transformers.configuration_reformer', 'transformers.configuration_t5', 'transformers.configuration_transfo_xl', 'transformers.configuration_xlm_roberta', 'transformers.configuration_xlnet', 'transformers.configuration_mmbt', 'transformers.data', 'transformers.data.metrics', 'scipy', 'scipy._lib', 'scipy._lib._testutils', 'scipy._lib.deprecation', 'scipy.__config__', 'scipy.version', 'scipy._distributor_init', 'scipy._lib._pep440', 'scipy._lib._ccallback', 'scipy._lib._ccallback_c', 'scipy.fft', 'scipy.fft._basic', 'scipy._lib.uarray', 'scipy._lib._uarray', 'scipy._lib._uarray._backend', 'scipy._lib._uarray._uarray', 'scipy.fft._realtransforms', 'scipy.fft._helper', 'scipy.fft._pocketfft', 'scipy.fft._pocketfft.basic', 'scipy.fft._pocketfft.pypocketfft', 'scipy.fft._pocketfft.helper', 'scipy.fft._pocketfft.realtransforms', 'scipy.fft._backend', 'scipy.stats', 'scipy.stats.stats', 'scipy.spatial', 'scipy.spatial.kdtree', 'scipy.sparse', 'scipy.sparse.base', 'scipy.sparse.sputils', 'scipy._lib._util', 'scipy.sparse.csr', 'scipy.sparse._sparsetools', 'scipy.sparse.compressed', 'scipy.sparse.data', 'scipy.sparse.dia', 'scipy.sparse._index', 'scipy.sparse.csc', 'scipy.sparse.lil', 'scipy.sparse._csparsetools', 'scipy.sparse.dok', 'scipy.sparse.coo', 'scipy.sparse.bsr', 'scipy.sparse.construct', 'scipy.sparse.extract', 'scipy.sparse._matrix_io', 'scipy.sparse.csgraph', 'scipy.sparse.csgraph._laplacian', 'scipy.sparse.csgraph._shortest_path', '_cython_0_29_18', 'scipy.sparse.csgraph._validation', 'scipy.sparse.csgraph._tools', 'scipy.sparse.csgraph._traversal', 'scipy.sparse.csgraph._min_spanning_tree', 'scipy.sparse.csgraph._flow', 'scipy.sparse.csgraph._matching', 'scipy.sparse.csgraph._reordering', 'scipy.spatial.ckdtree', 'scipy.spatial.qhull', 'scipy._lib.messagestream', 'scipy.spatial._spherical_voronoi', 'scipy.spatial._voronoi', 'scipy.spatial._plotutils', 'scipy._lib.decorator', 'scipy.spatial._procrustes', 'scipy.linalg', 'scipy.linalg.misc', 'scipy.linalg.blas', 'scipy.linalg._fblas', 'scipy.linalg.lapack', 'scipy.linalg._flapack', 'scipy.linalg.basic', 'scipy.linalg.flinalg', 'scipy.linalg._flinalg', 'scipy.linalg.decomp', 'scipy.linalg.decomp_svd', 'scipy.linalg._solve_toeplitz', 'scipy.linalg.decomp_lu', 'scipy.linalg._decomp_ldl', 'scipy.linalg.decomp_cholesky', 'scipy.linalg.decomp_qr', 'scipy.linalg._decomp_qz', 'scipy.linalg.decomp_schur', 'scipy.linalg._decomp_polar', 'scipy.linalg.matfuncs', 'scipy.linalg.special_matrices', 'scipy.linalg._expm_frechet', 'scipy.linalg._matfuncs_sqrtm', 'scipy.linalg._solvers', 'scipy.linalg._procrustes', 'scipy.linalg._decomp_update', 'scipy.linalg.cython_blas', 'scipy.linalg.cython_lapack', 'scipy.linalg._sketches', 'scipy.linalg._decomp_cossin', 'scipy.spatial._geometric_slerp', 'scipy.spatial.distance', 'scipy.spatial._distance_wrap', 'scipy.spatial._hausdorff', 'scipy.special', 'scipy.special.sf_error', 'scipy.special._ufuncs', 'scipy.special._ufuncs_cxx', 'scipy.special._basic', 'scipy.special.specfun', 'scipy.special.orthogonal', 'scipy.special._comb', 'scipy.special._logsumexp', 'scipy.special.spfun_stats', 'scipy.special._ellip_harm', 'scipy.special._ellip_harm_2', 'scipy.special._lambertw', 'scipy.special._spherical_bessel', 'scipy.spatial.transform', 'scipy.spatial.transform.rotation', 'scipy.spatial.transform._rotation_groups', 'scipy.constants', 'scipy.constants.codata', 'scipy.constants.constants', 'scipy.spatial.transform._rotation_spline', 'scipy.ndimage', 'scipy.ndimage.filters', 'scipy.ndimage._ni_support', 'scipy.ndimage._nd_image', 'scipy.ndimage._ni_docstrings', 'scipy._lib.doccer', 'scipy.ndimage.fourier', 'scipy.ndimage.interpolation', 'scipy.ndimage.measurements', 'scipy.ndimage._ni_label', '_ni_label', 'scipy.ndimage.morphology', 'scipy.stats.distributions', 'scipy.stats._distn_infrastructure', 'scipy.stats._distr_params', 'scipy.optimize', 'scipy.optimize.optimize', 'scipy.optimize.linesearch', 'scipy.optimize.minpack2', 'scipy.optimize._numdiff', 'scipy.sparse.linalg', 'scipy.sparse.linalg.isolve', 'scipy.sparse.linalg.isolve.iterative', 'scipy.sparse.linalg.isolve._iterative', 'scipy.sparse.linalg.interface', 'scipy.sparse.linalg.isolve.utils', 'scipy._lib._threadsafety', 'scipy.sparse.linalg.isolve.minres', 'scipy.sparse.linalg.isolve.lgmres', 'scipy.sparse.linalg.isolve._gcrotmk', 'scipy.sparse.linalg.isolve.lsqr', 'scipy.sparse.linalg.isolve.lsmr', 'scipy.sparse.linalg.dsolve', 'scipy.sparse.linalg.dsolve.linsolve', 'scipy.sparse.linalg.dsolve._superlu', 'scipy.sparse.linalg.dsolve._add_newdocs', 'scipy.sparse.linalg.eigen', 'scipy.sparse.linalg.eigen.arpack', 'scipy.sparse.linalg.eigen.arpack.arpack', 'scipy.sparse.linalg.eigen.arpack._arpack', 'scipy.sparse.linalg.eigen.lobpcg', 'scipy.sparse.linalg.eigen.lobpcg.lobpcg', 'scipy.sparse.linalg.matfuncs', 'scipy.sparse.linalg._expm_multiply', 'scipy.sparse.linalg._onenormest', 'scipy.sparse.linalg._norm', 'scipy.optimize._group_columns', 'scipy.optimize._differentiable_functions', 'scipy.optimize._hessian_update_strategy', 'scipy.optimize._minimize', 'scipy.optimize._trustregion_dogleg', 'scipy.optimize._trustregion', 'scipy.optimize._trustregion_ncg', 'scipy.optimize._trustregion_krylov', 'scipy.optimize._trlib', 'scipy.optimize._trlib._trlib', 'scipy.optimize._trustregion_exact', 'scipy.optimize._trustregion_constr', 'scipy.optimize._trustregion_constr.minimize_trustregion_constr', 'scipy.optimize._constraints', 'scipy.optimize._trustregion_constr.equality_constrained_sqp', 'scipy.optimize._trustregion_constr.projections', 'scipy.optimize._trustregion_constr.qp_subproblem', 'scipy.optimize._trustregion_constr.canonical_constraint', 'scipy.optimize._trustregion_constr.tr_interior_point', 'scipy.optimize._trustregion_constr.report', 'scipy.optimize.lbfgsb', 'scipy.optimize._lbfgsb', 'scipy.optimize.tnc', 'scipy.optimize.moduleTNC', 'scipy.optimize.cobyla', 'scipy.optimize._cobyla', 'scipy.optimize.slsqp', 'scipy.optimize._slsqp', 'scipy.optimize._root', 'scipy.optimize.minpack', 'scipy.optimize._minpack', 'scipy.optimize._lsq', 'scipy.optimize._lsq.least_squares', 'scipy.optimize._lsq.trf', 'scipy.optimize._lsq.common', 'scipy.optimize._lsq.dogbox', 'scipy.optimize._lsq.lsq_linear', 'scipy.optimize._lsq.trf_linear', 'scipy.optimize._lsq.givens_elimination', 'scipy.optimize._lsq.bvls', 'scipy.optimize._spectral', 'scipy.optimize.nonlin', 'scipy.optimize._root_scalar', 'scipy.optimize.zeros', 'scipy.optimize._zeros', 'scipy.optimize._nnls', 'scipy.optimize.__nnls', 'scipy.optimize._basinhopping', 'scipy.optimize._linprog', 'scipy.optimize._linprog_ip', 'scipy.optimize._linprog_util', 'scipy.optimize._remove_redundancy', 'scipy.optimize._linprog_simplex', 'scipy.optimize._linprog_rs', 'scipy.optimize._bglu_dense', 'scipy.optimize._lsap', 'scipy.optimize._lsap_module', 'scipy.optimize._differentialevolution', 'scipy.optimize._shgo', 'scipy.optimize._shgo_lib', 'scipy.optimize._shgo_lib.sobol_seq', 'scipy.optimize._shgo_lib.triangulation', 'scipy.optimize._dual_annealing', 'scipy.integrate', 'scipy.integrate._quadrature', 'scipy.integrate.odepack', 'scipy.integrate._odepack', 'scipy.integrate.quadpack', 'scipy.integrate._quadpack', 'scipy.integrate._ode', 'scipy.integrate.vode', 'scipy.integrate._dop', 'scipy.integrate.lsoda', 'scipy.integrate._bvp', 'scipy.integrate._ivp', 'scipy.integrate._ivp.ivp', 'scipy.integrate._ivp.bdf', 'scipy.integrate._ivp.common', 'scipy.integrate._ivp.base', 'scipy.integrate._ivp.radau', 'scipy.integrate._ivp.rk', 'scipy.integrate._ivp.dop853_coefficients', 'scipy.integrate._ivp.lsoda', 'scipy.integrate._quad_vec', 'scipy.misc', 'scipy.misc.doccer', 'scipy.misc.common', 'scipy.stats._constants', 'scipy.stats._continuous_distns', 'scipy.interpolate', 'scipy.interpolate.interpolate', 'scipy.interpolate.fitpack', 'scipy.interpolate._fitpack_impl', 'scipy.interpolate._fitpack', 'scipy.interpolate.dfitpack', 'scipy.interpolate._bsplines', 'scipy.interpolate._bspl', 'scipy.interpolate.polyint', 'scipy.interpolate._ppoly', 'scipy.interpolate.fitpack2', 'scipy.interpolate.interpnd', 'scipy.interpolate.rbf', 'scipy.interpolate._cubic', 'scipy.interpolate.ndgriddata', 'scipy.interpolate._pade', 'scipy.stats._stats', 'scipy.special.cython_special', 'scipy.stats._rvs_sampling', 'scipy.stats._tukeylambda_stats', 'scipy.stats._ksstats', 'scipy.stats._discrete_distns', 'scipy.stats.mstats_basic', 'scipy.stats._stats_mstats_common', 'scipy.stats._hypotests', 'scipy.stats._wilcoxon_data', 'scipy.stats.morestats', 'scipy.stats.statlib', 'scipy.stats.contingency', 'scipy.stats._binned_statistic', 'scipy.stats.kde', 'scipy.stats.mvn', 'scipy.stats.mstats', 'scipy.stats.mstats_extras', 'scipy.stats._multivariate', 'sklearn', 'sklearn._config', 'sklearn.__check_build', 'sklearn.__check_build._check_build', 'sklearn.base', 'sklearn.externals', 'sklearn.externals.six', 'sklearn.externals.six.moves', 'sklearn.externals.six.moves.urllib_parse', 'sklearn.externals.six.moves.urllib.parse', 'sklearn.externals.six.moves.urllib_error', 'sklearn.externals.six.moves.urllib.error', 'sklearn.externals.six.moves.urllib_request', 'sklearn.externals.six.moves.urllib.request', 'sklearn.externals.six.moves.urllib_response', 'sklearn.externals.six.moves.urllib.response', 'sklearn.externals.six.moves.urllib_robotparser', 'sklearn.externals.six.moves.urllib.robotparser', 'sklearn.externals.six.moves.urllib', 'sklearn.utils', 'sklearn.utils.murmurhash', 'sklearn.utils.class_weight', 'sklearn.utils._joblib', 'sklearn.externals.joblib', 'sklearn.externals.joblib.memory', 'sklearn.externals.joblib.hashing', 'sklearn.externals.joblib._compat', 'sklearn.externals.joblib.func_inspect', 'sklearn.externals.joblib.logger', 'sklearn.externals.joblib.disk', 'sklearn.externals.joblib._memory_helpers', 'sklearn.externals.joblib._store_backends', 'sklearn.externals.joblib.backports', 'sklearn.externals.joblib.numpy_pickle', 'sklearn.externals.joblib.compressor', 'sklearn.externals.joblib.numpy_pickle_utils', 'sklearn.externals.joblib.numpy_pickle_compat', 'sklearn.externals.joblib.parallel', 'sklearn.externals.joblib._multiprocessing_helpers', 'multiprocessing.synchronize', 'multiprocessing.semaphore_tracker', 'multiprocessing.spawn', 'sklearn.externals.joblib.format_stack', 'sklearn.externals.joblib.my_exceptions', 'sklearn.externals.joblib._parallel_backends', 'sklearn.externals.joblib.pool', 'sklearn.externals.joblib._memmapping_reducer', 'mmap', 'multiprocessing.pool', 'sklearn.externals.joblib.executor', 'sklearn.externals.joblib.externals', 'sklearn.externals.joblib.externals.loky', 'sklearn.externals.joblib.externals.loky._base', 'sklearn.externals.joblib.externals.loky.backend', 'sklearn.externals.joblib.externals.loky.backend.context', 'sklearn.externals.joblib.externals.loky.backend.process', 'sklearn.externals.joblib.externals.loky.backend.compat', 'sklearn.externals.joblib.externals.loky.backend.compat_posix', 'sklearn.externals.joblib.externals.loky.backend.reduction', 'sklearn.externals.joblib.externals.loky.backend._posix_reduction', 'sklearn.externals.joblib.externals.cloudpickle', 'sklearn.externals.joblib.externals.cloudpickle.cloudpickle', 'sklearn.externals.joblib.externals.loky.reusable_executor', 'sklearn.externals.joblib.externals.loky.process_executor', 'sklearn.externals.joblib.externals.loky.backend.queues', 'multiprocessing.queues', 'sklearn.externals.joblib.externals.loky.backend.utils', 'sklearn.externals.joblib.externals.loky.cloudpickle_wrapper', 'sklearn.exceptions', 'sklearn.utils.fixes', 'sklearn.utils.deprecation', 'sklearn.utils.validation', 'sklearn.utils._show_versions', 'sklearn.metrics', 'sklearn.metrics.ranking', 'sklearn.utils.multiclass', 'sklearn.utils.extmath', 'sklearn.utils._logistic_sigmoid', '_cython_0_28_5', 'sklearn.utils.sparsefuncs_fast', 'sklearn.utils.sparsefuncs', 'sklearn.preprocessing', 'sklearn.preprocessing._function_transformer', 'sklearn.utils.testing', 'scipy.io', 'scipy.io.matlab', 'scipy.io.matlab.mio', 'scipy.io.matlab.miobase', 'scipy.io.matlab.byteordercodes', 'scipy.io.matlab.mio4', 'scipy.io.matlab.mio_utils', 'scipy.io.matlab.mio5', 'scipy.io.matlab.mio5_utils', 'scipy.io.matlab.streams', 'scipy.io.matlab.mio5_params', 'scipy.io.netcdf', 'scipy.io._fortran', 'scipy.io.mmio', 'scipy.io.idl', 'scipy.io.harwell_boeing', 'scipy.io.harwell_boeing.hb', 'scipy.io.harwell_boeing._fortran_format_parser', 'sklearn.utils._unittest_backport', 'pytest', 'pytest.collect', '_pytest', '_pytest._version', '_pytest.deprecated', '_pytest.warning_types', '_pytest.compat', '_pytest.outcomes', '_pytest.assertion', '_pytest.assertion.rewrite', 'py', 'py._error', 'py.error', 'py._vendored_packages', 'py._vendored_packages.apipkg', 'py._vendored_packages.apipkg.version', 'py._version', 'py.test', 'py.process', 'py.apipkg', 'py.iniconfig', 'py.path', 'py.code', 'py.builtin', 'py.io', 'py.xml', 'py.log', '_pytest._io', '_pytest._io.terminalwriter', '_pytest._io.wcwidth', '_pytest._io.saferepr', '_pytest.assertion.util', '_pytest._code', '_pytest._code.code', 'pluggy', 'pluggy._version', 'pluggy.manager', 'pluggy._tracing', 'pluggy.callers', 'pluggy.hooks', '_pytest._code.source', 'py._path', 'py._path.local', 'py._path.common', '_pytest.config', '_pytest.hookspec', '_pytest.config.exceptions', '_pytest.config.findpaths', 'iniconfig', '_pytest.pathlib', '_pytest.store', '_pytest.main', '_pytest.nodes', '_pytest.mark', '_pytest.mark.expression', '_pytest.mark.structures', '_pytest.config.argparsing', '_pytest.fixtures', '_pytest.reports', '_pytest.runner', '_pytest.timing', '_pytest.assertion.truncate', '_pytest.cacheprovider', '_pytest.python', '_pytest.capture', '_pytest.debugging', '_pytest.freeze_support', '_pytest.logging', '_pytest.terminal', '_pytest.monkeypatch', '_pytest.pytester', '_pytest.tmpdir', '_pytest.python_api', '_pytest.recwarn', 'sklearn.preprocessing.data', 'sklearn.preprocessing._encoders', 'sklearn.preprocessing.base', 'sklearn.preprocessing.label', 'sklearn.preprocessing._discretization', 'sklearn.preprocessing.imputation', 'sklearn.metrics.base', 'sklearn.metrics.classification', 'sklearn.metrics.cluster', 'sklearn.metrics.cluster.supervised', 'sklearn.metrics.cluster.expected_mutual_info_fast', 'sklearn.utils.lgamma', 'sklearn.metrics.cluster.unsupervised', 'sklearn.metrics.pairwise', 'sklearn.metrics.pairwise_fast', 'sklearn.metrics.cluster.bicluster', 'sklearn.utils.linear_assignment_', 'sklearn.metrics.regression', 'sklearn.metrics.scorer', 'transformers.data.processors', 'transformers.data.processors.glue', 'transformers.tokenization_utils', 'tokenizers', 'tokenizers.tokenizers', 'tokenizers.implementations', 'tokenizers.implementations.base_tokenizer', 'tokenizers.implementations.byte_level_bpe', 'tokenizers.models', 'tokenizers.normalizers', 'tokenizers.implementations.char_level_bpe', 'tokenizers.implementations.sentencepiece_bpe', 'tokenizers.implementations.sentencepiece_unigram', 'tokenizers.implementations.bert_wordpiece', 'tokenizers.pre_tokenizers', 'tokenizers.processors', 'tokenizers.decoders', 'transformers.data.processors.utils', 'dataclasses', 'transformers.data.processors.squad', 'transformers.tokenization_bert', 'transformers.data.processors.xnli', 'transformers.hf_argparser', 'transformers.modelcard', 'transformers.modeling_tf_pytorch_utils', 'transformers.pipelines', 'transformers.tokenization_auto', 'transformers.tokenization_albert', 'transformers.tokenization_bart', 'transformers.tokenization_roberta', 'transformers.tokenization_gpt2', 'regex', 'regex.regex', 'regex._regex_core', 'regex._regex', 'transformers.tokenization_xlm_roberta', 'transformers.tokenization_xlnet', 'transformers.tokenization_bert_japanese', 'transformers.tokenization_camembert', 'sentencepiece', 'swig_runtime_data4', 'sentencepiece._sentencepiece', 'transformers.tokenization_ctrl', 'transformers.tokenization_distilbert', 'transformers.tokenization_electra', 'transformers.tokenization_flaubert', 'transformers.tokenization_xlm', 'sacremoses', 'sacremoses.corpus', 'sacremoses.tokenize', 'sacremoses.util', 'xml.sax', 'xml.sax.xmlreader', 'xml.sax.handler', 'xml.sax._exceptions', 'xml.sax.saxutils', 'joblib', 'joblib.memory', 'joblib.hashing', 'joblib.func_inspect', 'joblib.logger', 'joblib.disk', 'joblib._store_backends', 'joblib.backports', 'joblib.numpy_pickle', 'joblib.compressor', 'joblib.numpy_pickle_utils', 'joblib.numpy_pickle_compat', 'joblib.parallel', 'joblib._multiprocessing_helpers', 'joblib._parallel_backends', 'joblib.my_exceptions', 'joblib._deprecated_my_exceptions', 'joblib.pool', 'joblib._memmapping_reducer', 'joblib.externals', 'joblib.externals.loky', 'joblib.externals.loky._base', 'joblib.externals.loky.backend', 'joblib.externals.loky.backend.context', 'joblib.externals.loky.backend.process', 'joblib.externals.loky.backend.compat', 'joblib.externals.loky.backend.compat_posix', 'joblib.externals.loky.backend.reduction', 'joblib.externals.loky.backend._posix_reduction', 'joblib.externals.cloudpickle', 'joblib.externals.cloudpickle.cloudpickle', 'joblib.externals.cloudpickle.compat', 'joblib.externals.cloudpickle.cloudpickle_fast', 'joblib.externals.loky.reusable_executor', 'joblib.externals.loky.process_executor', 'joblib.externals.loky.backend.queues', 'joblib.externals.loky.backend.utils', 'joblib.externals.loky.cloudpickle_wrapper', 'joblib.externals.loky.backend.resource_tracker', 'joblib.externals.loky.backend.spawn', 'joblib.executor', 'sacremoses.truecase', 'sacremoses.normalize', 'transformers.tokenization_longformer', 'transformers.tokenization_marian', 'transformers.tokenization_openai', 'transformers.tokenization_reformer', 'transformers.tokenization_t5', 'transformers.tokenization_transfo_xl', 'transformers.modeling_auto', 'transformers.modeling_albert', 'transformers.modeling_bert', 'transformers.activations', 'transformers.modeling_utils', 'transformers.modeling_bart', 'transformers.modeling_camembert', 'transformers.modeling_roberta', 'transformers.modeling_ctrl', 'transformers.modeling_distilbert', 'transformers.modeling_electra', 'transformers.modeling_encoder_decoder', 'transformers.modeling_flaubert', 'transformers.modeling_xlm', 'transformers.modeling_gpt2', 'transformers.modeling_longformer', 'transformers.modeling_marian', 'transformers.modeling_openai', 'transformers.modeling_reformer', 'transformers.modeling_t5', 'transformers.modeling_transfo_xl', 'transformers.modeling_transfo_xl_utilities', 'transformers.modeling_xlm_roberta', 'transformers.modeling_xlnet', 'transformers.trainer_utils', 'transformers.training_args', 'transformers.training_args_tf', 'transformers.modeling_mmbt', 'transformers.optimization', 'transformers.trainer', 'packaging', 'packaging.__about__', 'packaging.version', 'packaging._structures', 'packaging._typing', 'transformers.data.data_collator', 'torch.utils.tensorboard', 'tensorboard', 'tensorboard.lazy', 'tensorboard.version', 'tensorboard.summary', 'tensorboard.summary.v1', 'tensorboard.plugins', 'tensorboard.plugins.audio', 'tensorboard.plugins.audio.summary', 'tensorboard.util', 'tensorboard.util.encoder', 'tensorboard.util.op_evaluator', 'tensorboard.plugins.audio.metadata', 'tensorboard.compat', 'tensorboard.compat.proto', 'tensorboard.compat.proto.summary_pb2', 'google.protobuf', 'google.protobuf.internal', 'google.protobuf.internal.enum_type_wrapper', 'google.protobuf.descriptor', 'google.protobuf.internal.api_implementation', 'google.protobuf.internal._api_implementation', 'google.protobuf.pyext', 'google.protobuf.internal.containers', 'google.protobuf.message', 'google.protobuf.pyext._message', 'google.protobuf.reflection', 'google.protobuf.message_factory', 'google.protobuf.descriptor_pool', 'google.protobuf.descriptor_database', 'google.protobuf.text_encoding', 'google.protobuf.pyext.cpp_message', 'google.protobuf.symbol_database', 'tensorboard.compat.proto.tensor_pb2', 'tensorboard.compat.proto.resource_handle_pb2', 'tensorboard.compat.proto.tensor_shape_pb2', 'google.protobuf.internal.well_known_types', 'tensorboard.compat.proto.types_pb2', 'tensorboard.plugins.audio.plugin_data_pb2', 'tensorboard.util.tb_logging', 'tensorboard.plugins.audio.summary_v2', 'tensorboard.util.lazy_tensor_creator', 'tensorboard.plugins.custom_scalar', 'tensorboard.plugins.custom_scalar.summary', 'tensorboard.plugins.custom_scalar.layout_pb2', 'tensorboard.plugins.custom_scalar.metadata', 'tensorboard.plugins.histogram', 'tensorboard.plugins.histogram.summary', 'tensorboard.plugins.histogram.metadata', 'tensorboard.plugins.histogram.plugin_data_pb2', 'tensorboard.plugins.histogram.summary_v2', 'tensorboard.util.tensor_util', 'tensorboard.compat.tensorflow_stub', 'tensorboard.compat.proto.config_pb2', 'tensorboard.compat.proto.cost_graph_pb2', 'tensorboard.compat.proto.graph_pb2', 'tensorboard.compat.proto.function_pb2', 'tensorboard.compat.proto.attr_value_pb2', 'tensorboard.compat.proto.node_def_pb2', 'tensorboard.compat.proto.op_def_pb2', 'tensorboard.compat.proto.versions_pb2', 'tensorboard.compat.proto.step_stats_pb2', 'tensorboard.compat.proto.allocation_description_pb2', 'tensorboard.compat.proto.tensor_description_pb2', 'tensorboard.compat.proto.cluster_pb2', 'tensorboard.compat.proto.debug_pb2', 'tensorboard.compat.proto.rewriter_config_pb2', 'tensorboard.compat.proto.verifier_config_pb2', 'tensorboard.compat.proto.event_pb2', 'tensorboard.compat.proto.meta_graph_pb2', 'google.protobuf.any_pb2', 'tensorboard.compat.proto.saved_object_graph_pb2', 'tensorboard.compat.proto.variable_pb2', 'tensorboard.compat.proto.struct_pb2', 'tensorboard.compat.proto.trackable_object_graph_pb2', 'tensorboard.compat.proto.saver_pb2', 'tensorboard.compat.tensorflow_stub.dtypes', 'tensorboard.compat.tensorflow_stub.pywrap_tensorflow', 'tensorboard.compat.tensorflow_stub.errors', 'tensorboard.compat.tensorflow_stub.error_codes', 'tensorboard.compat.tensorflow_stub.io', 'tensorboard.compat.tensorflow_stub.io.gfile', 'tensorboard.compat.tensorflow_stub.compat', 'tensorboard.compat.tensorflow_stub.compat.v1', 'tensorboard.compat.tensorflow_stub.app', 'tensorboard.compat.tensorflow_stub.flags', 'tensorboard.compat.tensorflow_stub.tensor_shape', 'tensorboard.plugins.image', 'tensorboard.plugins.image.summary', 'tensorboard.plugins.image.metadata', 'tensorboard.plugins.image.plugin_data_pb2', 'tensorboard.plugins.image.summary_v2', 'tensorboard.plugins.pr_curve', 'tensorboard.plugins.pr_curve.summary', 'tensorboard.plugins.pr_curve.metadata', 'tensorboard.plugins.pr_curve.plugin_data_pb2', 'tensorboard.plugins.scalar', 'tensorboard.plugins.scalar.summary', 'tensorboard.plugins.scalar.metadata', 'tensorboard.plugins.scalar.plugin_data_pb2', 'tensorboard.plugins.scalar.summary_v2', 'tensorboard.plugins.text', 'tensorboard.plugins.text.summary', 'tensorboard.plugins.text.metadata', 'tensorboard.plugins.text.plugin_data_pb2', 'tensorboard.plugins.text.summary_v2', 'tensorboard.summary.v2', 'tensorboard.summary.writer', 'tensorboard.summary.writer.record_writer', 'torch.utils.tensorboard.writer', 'tensorboard.plugins.projector', 'google.protobuf.text_format', 'encodings.raw_unicode_escape', 'encodings.unicode_escape', 'google.protobuf.internal.decoder', 'google.protobuf.internal.encoder', 'google.protobuf.internal.wire_format', 'google.protobuf.internal.type_checkers', 'tensorboard.plugins.projector.metadata', 'tensorboard.plugins.projector.projector_config_pb2', 'tensorboard.summary.writer.event_file_writer', 'torch.utils.tensorboard._convert_np', 'torch.utils.tensorboard._embedding', 'torch.utils.tensorboard._utils', 'torch.utils.tensorboard._onnx_graph', 'torch.utils.tensorboard._pytorch_graph', 'torch.utils.tensorboard._proto_graph', 'torch.utils.tensorboard.summary', 'transformers.data.datasets', 'transformers.data.datasets.glue', 'transformers.data.datasets.language_modeling', 'transformers.benchmark', 'transformers.benchmark.benchmark_args', 'transformers.benchmark.benchmark_args_utils', 'transformers.benchmark.benchmark', 'transformers.benchmark.benchmark_utils', 'convlab2.nlu.jointBERT.jointBERT', 'convlab2.nlu.jointBERT.multiwoz.postprocess', 'convlab2.nlu.jointBERT.multiwoz.preprocess', 'convlab2.nlu.milu', 'convlab2.nlu.milu.multiwoz', 'convlab2.nlu.milu.multiwoz.nlu', 'allennlp', 'allennlp.version', 'allennlp.common', 'allennlp.common.from_params', 'allennlp.common.checks', 'allennlp.common.params', 'overrides', 'overrides.overrides', 'overrides.final', 'overrides.enforce', '_jsonnet', 'allennlp.common.file_utils', 'allennlp.common.tqdm', 'allennlp.common.registrable', 'allennlp.common.tee_logger', 'allennlp.common.util', 'spacy.language', 'spacy.tokenizer', 'spacy.pipeline', 'spacy.pipeline.pipes', 'spacy.syntax.nn_parser', 'spacy.syntax.arc_eager', 'spacy.syntax._parser_model', 'spacy.syntax.ner', 'spacy.kb', 'spacy.pipeline.functions', 'spacy.matcher', 'spacy.matcher.matcher', 'spacy.matcher._schemas', 'spacy.matcher.phrasematcher', 'spacy.matcher.dependencymatcher', 'spacy.pipeline.entityruler', 'spacy.pipeline.hooks', 'thinc.neural._classes.difference', 'spacy.scorer', 'spacy.lang', 'spacy.lang.punctuation', 'spacy.lang.char_classes', 'spacy.lang.tokenizer_exceptions', 'spacy.lang.tag_map', 'spacy.lang.lex_attrs', 'allennlp.data', 'allennlp.data.dataset_readers', 'allennlp.data.dataset_readers.ccgbank', 'allennlp.data.dataset_readers.dataset_reader', 'jsonpickle', 'jsonpickle.backend', 'jsonpickle.compat', 'jsonpickle.pickler', 'jsonpickle.util', 'jsonpickle.tags', 'jsonpickle.handlers', 'jsonpickle.unpickler', 'jsonpickle.version', 'allennlp.data.instance', 'allennlp.data.fields', 'allennlp.data.fields.field', 'allennlp.data.vocabulary', 'allennlp.data.fields.array_field', 'allennlp.data.fields.adjacency_field', 'allennlp.data.fields.sequence_field', 'allennlp.data.fields.index_field', 'allennlp.data.fields.knowledge_graph_field', 'editdistance', 'editdistance.bycython', 'allennlp.data.token_indexers', 'allennlp.data.token_indexers.dep_label_indexer', 'allennlp.data.tokenizers', 'allennlp.data.tokenizers.tokenizer', 'allennlp.data.tokenizers.token', 'allennlp.data.tokenizers.word_tokenizer', 'allennlp.data.tokenizers.word_filter', 'spacy.lang.en', 'spacy.lang.en.tokenizer_exceptions', 'spacy.lang.en.norm_exceptions', 'spacy.lang.en.tag_map', 'spacy.lang.en.stop_words', 'spacy.lang.en.lex_attrs', 'spacy.lang.en.morph_rules', 'spacy.lang.en.lemmatizer', 'spacy.lang.en.lemmatizer.lookup', 'spacy.lang.en.lemmatizer._adjectives', 'spacy.lang.en.lemmatizer._adjectives_irreg', 'spacy.lang.en.lemmatizer._adverbs', 'spacy.lang.en.lemmatizer._adverbs_irreg', 'spacy.lang.en.lemmatizer._nouns', 'spacy.lang.en.lemmatizer._nouns_irreg', 'spacy.lang.en.lemmatizer._verbs', 'spacy.lang.en.lemmatizer._verbs_irreg', 'spacy.lang.en.lemmatizer._lemma_rules', 'spacy.lang.en.syntax_iterators', 'spacy.lang.norm_exceptions', 'allennlp.data.tokenizers.word_splitter', 'pytorch_pretrained_bert', 'pytorch_pretrained_bert.tokenization', 'pytorch_pretrained_bert.file_utils', 'pytorch_pretrained_bert.tokenization_openai', 'pytorch_pretrained_bert.tokenization_transfo_xl', 'pytorch_pretrained_bert.tokenization_gpt2', 'pytorch_pretrained_bert.modeling', 'pytorch_pretrained_bert.modeling_openai', 'pytorch_pretrained_bert.modeling_transfo_xl', 'pytorch_pretrained_bert.modeling_transfo_xl_utilities', 'pytorch_pretrained_bert.modeling_gpt2', 'pytorch_pretrained_bert.optimization', 'pytorch_pretrained_bert.optimization_openai', 'allennlp.data.token_indexers.openai_transformer_byte_pair_indexer', 'allennlp.data.token_indexers.token_indexer', 'allennlp.data.tokenizers.word_stemmer', 'nltk', 'nltk.internals', 'nltk.collocations', 'nltk.probability', 'nltk.util', 'nltk.collections', 'nltk.metrics', 'nltk.metrics.scores', 'nltk.metrics.confusionmatrix', 'nltk.metrics.distance', 'nltk.metrics.paice', 'nltk.metrics.segmentation', 'nltk.metrics.agreement', 'nltk.metrics.association', 'nltk.metrics.spearman', 'nltk.metrics.aline', 'nltk.decorators', 'nltk.featstruct', 'nltk.sem', 'nltk.sem.util', 'nltk.sem.evaluate', 'nltk.sem.logic', 'nltk.sem.skolemize', 'nltk.sem.lfg', 'nltk.sem.relextract', 'nltk.sem.boxer', 'nltk.sem.drt', 'tkinter', '_tkinter', 'tkinter.constants', 'tkinter.font', 'nltk.grammar', 'nltk.text', 'nltk.lm', 'nltk.lm.models', 'nltk.lm.api', 'nltk.lm.counter', 'nltk.lm.util', 'nltk.lm.vocabulary', 'nltk.lm.smoothing', 'nltk.lm.preprocessing', 'nltk.tokenize', 'nltk.data', 'nltk.compat', 'nltk.tokenize.casual', 'nltk.tokenize.mwe', 'nltk.tokenize.api', 'nltk.tokenize.util', 'nltk.tokenize.destructive', 'nltk.tokenize.punkt', 'nltk.tokenize.regexp', 'nltk.tokenize.repp', 'nltk.tokenize.sexpr', 'nltk.tokenize.simple', 'nltk.tokenize.texttiling', 'nltk.tokenize.toktok', 'nltk.tokenize.treebank', 'nltk.tokenize.stanford_segmenter', 'nltk.tokenize.sonority_sequencing', 'nltk.tree', 'nltk.jsontags', 'nltk.chunk', 'nltk.chunk.api', 'nltk.parse', 'nltk.parse.api', 'nltk.parse.chart', 'nltk.parse.featurechart', 'nltk.parse.earleychart', 'nltk.parse.pchart', 'nltk.parse.recursivedescent', 'nltk.parse.shiftreduce', 'nltk.parse.util', 'nltk.parse.viterbi', 'nltk.parse.dependencygraph', 'nltk.parse.projectivedependencyparser', 'nltk.parse.nonprojectivedependencyparser', 'nltk.parse.malt', 'nltk.parse.evaluate', 'nltk.parse.transitionparser', 'sklearn.datasets', 'sklearn.datasets.base', 'sklearn.datasets.covtype', 'sklearn.datasets.kddcup99', 'sklearn.datasets.mlcomp', 'sklearn.datasets.lfw', 'sklearn.datasets.twenty_newsgroups', 'sklearn.feature_extraction', 'sklearn.feature_extraction.dict_vectorizer', 'sklearn.feature_extraction.hashing', 'sklearn.feature_extraction._hashing', 'sklearn.feature_extraction.image', 'sklearn.feature_extraction.text', 'sklearn.feature_extraction.stop_words', 'sklearn.datasets.mldata', 'sklearn.datasets.openml', 'sklearn.externals._arff', 'sklearn.datasets.samples_generator', 'sklearn.utils.random', 'sklearn.utils._random', 'sklearn.datasets.svmlight_format', 'sklearn.datasets._svmlight_format', 'sklearn.datasets.olivetti_faces', 'sklearn.datasets.species_distributions', 'sklearn.datasets.california_housing', 'sklearn.datasets.rcv1', 'sklearn.svm', 'sklearn.svm.classes', 'sklearn.svm.base', 'sklearn.svm.libsvm', 'sklearn.svm.liblinear', 'sklearn.svm.libsvm_sparse', 'sklearn.linear_model', 'sklearn.linear_model.base', 'sklearn.utils.seq_dataset', 'sklearn.linear_model.bayes', 'sklearn.linear_model.least_angle', 'sklearn.utils.arrayfuncs', 'sklearn.model_selection', 'sklearn.model_selection._split', 'sklearn.model_selection._validation', 'sklearn.utils.metaestimators', 'sklearn.model_selection._search', 'sklearn.linear_model.coordinate_descent', 'sklearn.linear_model.cd_fast', 'sklearn.linear_model.huber', 'sklearn.linear_model.sgd_fast', 'sklearn.utils.weight_vector', 'sklearn.linear_model.stochastic_gradient', 'sklearn.linear_model.ridge', 'sklearn.linear_model.sag', 'sklearn.linear_model.sag_fast', 'sklearn.linear_model.logistic', 'sklearn.utils.optimize', 'sklearn.linear_model.omp', 'sklearn.linear_model.passive_aggressive', 'sklearn.linear_model.perceptron', 'sklearn.linear_model.randomized_l1', 'sklearn.feature_selection', 'sklearn.feature_selection.univariate_selection', 'sklearn.feature_selection.base', 'sklearn.feature_selection.variance_threshold', 'sklearn.feature_selection.rfe', 'sklearn.feature_selection.from_model', 'sklearn.feature_selection.mutual_info_', 'sklearn.neighbors', 'sklearn.neighbors.ball_tree', 'sklearn.neighbors.dist_metrics', 'sklearn.neighbors.typedefs', 'sklearn.neighbors.kd_tree', 'sklearn.neighbors.graph', 'sklearn.neighbors.base', 'sklearn.neighbors.unsupervised', 'sklearn.neighbors.classification', 'sklearn.neighbors.regression', 'sklearn.neighbors.nearest_centroid', 'sklearn.neighbors.kde', 'sklearn.neighbors.approximate', 'sklearn.random_projection', 'sklearn.neighbors.lof', 'sklearn.linear_model.ransac', 'sklearn.linear_model.theil_sen', 'sklearn.svm.bounds', 'nltk.parse.bllip', 'nltk.parse.corenlp', 'nltk.tag', 'nltk.tag.api', 'nltk.tag.util', 'nltk.tag.sequential', 'nltk.classify', 'nltk.classify.api', 'nltk.classify.megam', 'nltk.classify.weka', 'nltk.classify.naivebayes', 'nltk.classify.positivenaivebayes', 'nltk.classify.decisiontree', 'nltk.classify.rte_classify', 'nltk.classify.util', 'nltk.classify.maxent', 'nltk.classify.tadm', 'nltk.classify.scikitlearn', 'nltk.classify.senna', 'nltk.classify.textcat', 'nltk.tag.brill', 'nltk.tbl', 'nltk.tbl.template', 'nltk.tbl.feature', 'nltk.tbl.rule', 'nltk.tbl.erroranalysis', 'nltk.tag.brill_trainer', 'nltk.tag.tnt', 'nltk.tag.hunpos', 'nltk.tag.stanford', 'nltk.tag.hmm', 'nltk.tag.senna', 'nltk.tag.mapping', 'nltk.tag.crf', 'nltk.tag.perceptron', 'nltk.chunk.util', 'nltk.chunk.regexp', 'nltk.inference', 'nltk.inference.api', 'nltk.inference.mace', 'nltk.inference.prover9', 'nltk.inference.resolution', 'nltk.inference.tableau', 'nltk.inference.discourse', 'nltk.sem.glue', 'nltk.sem.linearlogic', 'nltk.translate', 'nltk.translate.api', 'nltk.translate.ibm_model', 'nltk.translate.ibm1', 'nltk.translate.ibm2', 'nltk.translate.ibm3', 'nltk.translate.ibm4', 'nltk.translate.ibm5', 'nltk.translate.bleu_score', 'fractions', 'nltk.translate.ribes_score', 'nltk.translate.meteor_score', 'nltk.stem', 'nltk.stem.api', 'nltk.stem.regexp', 'nltk.stem.lancaster', 'nltk.stem.isri', 'nltk.stem.porter', 'nltk.stem.snowball', 'nltk.corpus', 'nltk.corpus.util', 'nltk.corpus.reader', 'nltk.corpus.reader.plaintext', 'nltk.corpus.reader.util', 'nltk.corpus.reader.api', 'nltk.corpus.reader.tagged', 'nltk.corpus.reader.timit', 'nltk.corpus.reader.cmudict', 'nltk.corpus.reader.conll', 'nltk.corpus.reader.chunked', 'nltk.corpus.reader.bracket_parse', 'nltk.corpus.reader.wordlist', 'nltk.corpus.reader.xmldocs', 'nltk.corpus.reader.ppattach', 'nltk.corpus.reader.senseval', 'nltk.corpus.reader.ieer', 'nltk.corpus.reader.sinica_treebank', 'nltk.corpus.reader.indian', 'nltk.corpus.reader.toolbox', 'nltk.toolbox', 'nltk.corpus.reader.ycoe', 'nltk.corpus.reader.rte', 'nltk.corpus.reader.string_category', 'nltk.corpus.reader.propbank', 'nltk.corpus.reader.verbnet', 'nltk.corpus.reader.bnc', 'nltk.corpus.reader.nps_chat', 'nltk.corpus.reader.wordnet', 'nltk.corpus.reader.switchboard', 'nltk.corpus.reader.dependency', 'nltk.corpus.reader.nombank', 'nltk.corpus.reader.ipipan', 'nltk.corpus.reader.pl196x', 'nltk.corpus.reader.knbc', 'nltk.corpus.reader.chasen', 'nltk.corpus.reader.childes', 'nltk.corpus.reader.aligned', 'nltk.corpus.reader.lin', 'nltk.corpus.reader.semcor', 'nltk.corpus.reader.framenet', 'nltk.corpus.reader.udhr', 'nltk.corpus.reader.sentiwordnet', 'nltk.corpus.reader.twitter', 'nltk.corpus.reader.nkjp', 'nltk.corpus.reader.crubadan', 'nltk.corpus.reader.mte', 'nltk.corpus.reader.reviews', 'nltk.corpus.reader.opinion_lexicon', 'nltk.corpus.reader.pros_cons', 'nltk.corpus.reader.categorized_sents', 'nltk.corpus.reader.comparative_sents', 'nltk.corpus.reader.panlex_lite', 'nltk.corpus.reader.panlex_swadesh', 'nltk.stem.util', 'nltk.stem.wordnet', 'nltk.stem.rslp', 'nltk.stem.cistem', 'nltk.translate.metrics', 'nltk.translate.stack_decoder', 'nltk.lazyimport', 'nltk.cluster', 'nltk.cluster.util', 'nltk.cluster.api', 'nltk.cluster.kmeans', 'nltk.cluster.gaac', 'nltk.cluster.em', 'nltk.downloader', 'tkinter.messagebox', 'tkinter.commondialog', 'nltk.draw', 'nltk.draw.cfg', 'nltk.draw.tree', 'nltk.draw.util', 'tkinter.filedialog', 'tkinter.dialog', 'nltk.draw.table', 'nltk.draw.dispersion', 'nltk.ccg', 'nltk.ccg.combinator', 'nltk.ccg.api', 'nltk.ccg.chart', 'nltk.ccg.lexicon', 'nltk.ccg.logic', 'nltk.help', 'nltk.misc', 'nltk.misc.chomsky', 'nltk.misc.wordfinder', 'nltk.misc.minimalset', 'nltk.misc.babelfish', 'nltk.wsd', 'nltk.treetransforms', 'allennlp.data.tokenizers.pretrained_transformer_tokenizer', 'pytorch_transformers', 'pytorch_transformers.tokenization_auto', 'pytorch_transformers.tokenization_bert', 'pytorch_transformers.tokenization_utils', 'pytorch_transformers.file_utils', 'pytorch_transformers.tokenization_openai', 'pytorch_transformers.tokenization_gpt2', 'pytorch_transformers.tokenization_transfo_xl', 'pytorch_transformers.tokenization_xlnet', 'pytorch_transformers.tokenization_xlm', 'pytorch_transformers.tokenization_roberta', 'pytorch_transformers.modeling_auto', 'pytorch_transformers.modeling_bert', 'pytorch_transformers.modeling_utils', 'pytorch_transformers.modeling_openai', 'pytorch_transformers.modeling_gpt2', 'pytorch_transformers.modeling_transfo_xl', 'pytorch_transformers.modeling_transfo_xl_utilities', 'pytorch_transformers.modeling_xlnet', 'pytorch_transformers.modeling_xlm', 'pytorch_transformers.modeling_roberta', 'pytorch_transformers.optimization', 'allennlp.data.tokenizers.character_tokenizer', 'allennlp.data.tokenizers.sentence_splitter', 'allennlp.data.token_indexers.ner_tag_indexer', 'allennlp.data.token_indexers.pos_tag_indexer', 'allennlp.data.token_indexers.single_id_token_indexer', 'allennlp.data.token_indexers.token_characters_indexer', 'allennlp.data.token_indexers.elmo_indexer', 'allennlp.data.token_indexers.wordpiece_indexer', 'allennlp.data.token_indexers.spacy_indexer', 'allennlp.data.token_indexers.pretrained_transformer_indexer', 'allennlp.nn', 'allennlp.nn.activations', 'allennlp.nn.initializers', 'allennlp.nn.regularizers', 'allennlp.nn.regularizers.regularizer', 'allennlp.nn.regularizers.regularizers', 'allennlp.nn.regularizers.regularizer_applicator', 'allennlp.nn.util', 'allennlp.semparse', 'allennlp.semparse.common', 'allennlp.semparse.common.date', 'allennlp.semparse.common.errors', 'allennlp.semparse.domain_languages', 'allennlp.semparse.domain_languages.domain_language', 'allennlp.semparse.util', 'allennlp.semparse.domain_languages.nlvr_language', 'allennlp.semparse.domain_languages.quarel_language', 'allennlp.semparse.domain_languages.wikitables_language', 'allennlp.semparse.contexts', 'allennlp.semparse.contexts.atis_sql_table_context', 'parsimonious', 'parsimonious.exceptions', 'parsimonious.utils', 'parsimonious.grammar', 'parsimonious.expressions', 'parsimonious.nodes', 'allennlp.semparse.contexts.sql_context_utils', 'allennlp.semparse.contexts.table_question_context', 'allennlp.semparse.contexts.knowledge_graph', 'allennlp.tools', 'allennlp.tools.wikitables_evaluator', 'allennlp.semparse.worlds', 'allennlp.semparse.worlds.atis_world', 'allennlp.semparse.contexts.atis_tables', 'allennlp.semparse.worlds.world', 'allennlp.semparse.type_declarations', 'allennlp.semparse.type_declarations.type_declaration', 'allennlp.semparse.action_space_walker', 'allennlp.data.fields.label_field', 'allennlp.data.fields.multilabel_field', 'allennlp.data.fields.list_field', 'allennlp.data.fields.metadata_field', 'allennlp.data.fields.production_rule_field', 'allennlp.data.fields.sequence_label_field', 'allennlp.data.fields.span_field', 'allennlp.data.fields.text_field', 'allennlp.data.fields.namespace_swapping_field', 'allennlp.data.dataset_readers.conll2003', 'allennlp.data.dataset_readers.dataset_utils', 'allennlp.data.dataset_readers.dataset_utils.ontonotes', 'allennlp.data.dataset_readers.dataset_utils.span_utils', 'allennlp.data.dataset_readers.conll2000', 'allennlp.data.dataset_readers.ontonotes_ner', 'allennlp.data.dataset_readers.coreference_resolution', 'allennlp.data.dataset_readers.coreference_resolution.conll', 'allennlp.data.dataset_readers.coreference_resolution.winobias', 'allennlp.data.dataset_readers.event2mind', 'allennlp.data.dataset_readers.interleaving_dataset_reader', 'allennlp.data.dataset_readers.language_modeling', 'allennlp.data.dataset_readers.masked_language_modeling', 'allennlp.data.dataset_readers.next_token_lm', 'allennlp.data.dataset_readers.multiprocess_dataset_reader', 'allennlp.data.dataset_readers.penn_tree_bank', 'allennlp.data.dataset_readers.reading_comprehension', 'allennlp.data.dataset_readers.reading_comprehension.drop', 'word2number', 'word2number.w2n', 'allennlp.data.dataset_readers.reading_comprehension.util', 'allennlp.data.dataset_readers.reading_comprehension.squad', 'allennlp.data.dataset_readers.reading_comprehension.quac', 'allennlp.data.dataset_readers.reading_comprehension.triviaqa', 'allennlp.data.dataset_readers.reading_comprehension.qangaroo', 'allennlp.data.dataset_readers.semantic_role_labeling', 'allennlp.data.dataset_readers.semantic_dependency_parsing', 'allennlp.data.dataset_readers.seq2seq', 'allennlp.data.dataset_readers.sequence_tagging', 'allennlp.data.dataset_readers.snli', 'allennlp.data.dataset_readers.universal_dependencies', 'conllu', 'conllu.models', 'conllu.compat', 'conllu.parser', 'allennlp.data.dataset_readers.universal_dependencies_multilang', 'allennlp.data.dataset_readers.stanford_sentiment_tree_bank', 'allennlp.data.dataset_readers.quora_paraphrase', 'allennlp.data.dataset_readers.semantic_parsing', 'allennlp.data.dataset_readers.semantic_parsing.atis', 'allennlp.data.dataset_readers.semantic_parsing.nlvr', 'allennlp.data.dataset_readers.semantic_parsing.wikitables', 'allennlp.data.dataset_readers.semantic_parsing.wikitables.wikitables', 'allennlp.data.dataset_readers.semantic_parsing.wikitables.util', 'allennlp.data.dataset_readers.semantic_parsing.template_text2sql', 'allennlp.data.dataset_readers.dataset_utils.text2sql_utils', 'allennlp.data.dataset_readers.semantic_parsing.grammar_based_text2sql', 'allennlp.semparse.worlds.text2sql_world', 'allennlp.semparse.contexts.text2sql_table_context', 'allennlp.data.dataset_readers.semantic_parsing.quarel', 'allennlp.semparse.contexts.quarel_utils', 'allennlp.semparse.worlds.quarel_world', 'allennlp.semparse.type_declarations.quarel_type_declaration', 'allennlp.data.dataset_readers.simple_language_modeling', 'allennlp.data.dataset_readers.babi', 'allennlp.data.dataset_readers.copynet_seq2seq', 'allennlp.data.dataset_readers.text_classification_json', 'allennlp.data.iterators', 'allennlp.data.iterators.data_iterator', 'allennlp.data.dataset', 'allennlp.data.iterators.basic_iterator', 'allennlp.data.iterators.bucket_iterator', 'allennlp.data.iterators.homogeneous_batch_iterator', 'allennlp.data.iterators.multiprocess_iterator', 'allennlp.data.iterators.pass_through_iterator', 'allennlp.data.iterators.same_language_iterator', 'allennlp.models', 'allennlp.models.model', 'allennlp.models.archival', 'allennlp.models.bert_for_classification', 'allennlp.modules', 'allennlp.modules.conditional_random_field', 'allennlp.modules.elmo', 'h5py', 'h5py._errors', 'h5py.version', 'h5py.h5', 'h5py.defs', 'h5py._objects', 'h5py._conv', 'h5py.h5r', 'h5py.h5t', 'h5py.h5p', 'h5py.h5s', 'h5py.utils', 'h5py.h5ac', 'h5py.h5z', 'h5py.h5a', 'h5py._proxy', 'h5py.h5d', 'h5py.h5ds', 'h5py.h5f', 'h5py.h5g', 'h5py.h5i', 'h5py.h5fd', 'h5py.h5pl', 'h5py._hl', 'h5py._hl.filters', 'h5py._hl.compat', 'h5py._hl.base', 'h5py._hl.files', 'h5py._hl.group', 'h5py.h5o', 'h5py.h5l', 'h5py._hl.dataset', 'cached_property', 'h5py._selector', 'h5py._hl.selections', 'h5py._hl.selections2', 'h5py._hl.datatype', 'h5py._hl.vds', 'h5py._hl.attrs', 'allennlp.modules.elmo_lstm', 'allennlp.modules.lstm_cell_with_projection', 'allennlp.modules.encoder_base', 'allennlp.modules.highway', 'allennlp.modules.scalar_mix', 'allennlp.modules.feedforward', 'allennlp.modules.layer_norm', 'allennlp.modules.maxout', 'allennlp.modules.seq2seq_encoders', 'allennlp.modules.augmented_lstm', 'allennlp.modules.seq2seq_encoders.bidirectional_language_model_transformer', 'allennlp.modules.seq2seq_encoders.seq2seq_encoder', 'allennlp.modules.seq2seq_encoders.gated_cnn_encoder', 'allennlp.modules.seq2seq_encoders.intra_sentence_attention', 'allennlp.modules.matrix_attention', 'allennlp.modules.matrix_attention.matrix_attention', 'allennlp.modules.matrix_attention.bilinear_matrix_attention', 'allennlp.modules.matrix_attention.cosine_matrix_attention', 'allennlp.modules.matrix_attention.dot_product_matrix_attention', 'allennlp.modules.matrix_attention.legacy_matrix_attention', 'allennlp.modules.similarity_functions', 'allennlp.modules.similarity_functions.bilinear', 'allennlp.modules.similarity_functions.similarity_function', 'allennlp.modules.similarity_functions.cosine', 'allennlp.modules.similarity_functions.dot_product', 'allennlp.modules.similarity_functions.linear', 'allennlp.modules.similarity_functions.multiheaded', 'allennlp.modules.matrix_attention.linear_matrix_attention', 'allennlp.modules.seq2seq_encoders.pytorch_seq2seq_wrapper', 'allennlp.modules.stacked_alternating_lstm', 'allennlp.modules.stacked_bidirectional_lstm', 'allennlp.modules.input_variational_dropout', 'allennlp.modules.seq2seq_encoders.stacked_self_attention', 'allennlp.modules.seq2seq_encoders.multi_head_self_attention', 'allennlp.modules.seq2seq_encoders.pass_through_encoder', 'allennlp.modules.seq2seq_encoders.feedforward_encoder', 'allennlp.modules.seq2seq_encoders.qanet_encoder', 'allennlp.modules.residual_with_layer_dropout', 'allennlp.modules.seq2vec_encoders', 'allennlp.modules.seq2vec_encoders.cnn_encoder', 'allennlp.modules.seq2vec_encoders.seq2vec_encoder', 'allennlp.modules.seq2vec_encoders.cnn_highway_encoder', 'allennlp.modules.seq2vec_encoders.bert_pooler', 'allennlp.modules.token_embedders', 'allennlp.modules.token_embedders.token_embedder', 'allennlp.modules.token_embedders.embedding', 'allennlp.modules.time_distributed', 'allennlp.modules.token_embedders.token_characters_encoder', 'allennlp.modules.token_embedders.elmo_token_embedder', 'allennlp.modules.token_embedders.elmo_token_embedder_multilang', 'allennlp.modules.token_embedders.openai_transformer_embedder', 'allennlp.modules.openai_transformer', 'allennlp.modules.token_embedders.bert_token_embedder', 'allennlp.modules.token_embedders.bidirectional_language_model_token_embedder', 'allennlp.modules.token_embedders.language_model_token_embedder', 'allennlp.modules.token_embedders.bag_of_word_counts_token_embedder', 'allennlp.modules.token_embedders.pass_through_token_embedder', 'allennlp.modules.token_embedders.pretrained_transformer_embedder', 'allennlp.modules.seq2vec_encoders.boe_encoder', 'allennlp.modules.seq2vec_encoders.pytorch_seq2vec_wrapper', 'allennlp.modules.pruner', 'allennlp.modules.text_field_embedders', 'allennlp.modules.text_field_embedders.text_field_embedder', 'allennlp.modules.text_field_embedders.basic_text_field_embedder', 'allennlp.modules.attention', 'allennlp.modules.attention.attention', 'allennlp.modules.attention.bilinear_attention', 'allennlp.modules.attention.additive_attention', 'allennlp.modules.attention.cosine_attention', 'allennlp.modules.attention.legacy_attention', 'allennlp.modules.attention.dot_product_attention', 'allennlp.modules.attention.linear_attention', 'allennlp.modules.bimpm_matching', 'allennlp.modules.language_model_heads', 'allennlp.modules.language_model_heads.language_model_head', 'allennlp.modules.language_model_heads.bert', 'allennlp.modules.language_model_heads.gpt2', 'allennlp.training', 'allennlp.training.callback_trainer', 'allennlp.training.util', 'allennlp.training.callbacks', 'allennlp.training.callbacks.callback', 'allennlp.training.callbacks.callback_handler', 'allennlp.training.trainer_base', 'allennlp.training.callbacks.events', 'allennlp.training.callbacks.log_to_tensorboard', 'allennlp.training.tensorboard_writer', 'tensorboardX', 'tensorboardX.record_writer', 'tensorboardX.crc32c', 'tensorboardX.torchvis', 'tensorboardX.writer', 'tensorboardX.embedding', 'tensorboardX.event_file_writer', 'tensorboardX.proto', 'tensorboardX.proto.event_pb2', 'tensorboardX.proto.summary_pb2', 'tensorboardX.proto.tensor_pb2', 'tensorboardX.proto.resource_handle_pb2', 'tensorboardX.proto.tensor_shape_pb2', 'tensorboardX.proto.types_pb2', 'tensorboardX.onnx_graph', 'tensorboardX.proto.graph_pb2', 'tensorboardX.proto.node_def_pb2', 'tensorboardX.proto.attr_value_pb2', 'tensorboardX.proto.versions_pb2', 'tensorboardX.pytorch_graph', 'tensorboardX.proto.step_stats_pb2', 'tensorboardX.proto_graph', 'tensorboardX.utils', 'tensorboardX.summary', 'tensorboardX.proto.plugin_pr_curve_pb2', 'tensorboardX.proto.plugin_text_pb2', 'tensorboardX.proto.layout_pb2', 'tensorboardX.x2num', 'tensorboardX.visdom_writer', 'allennlp.training.callbacks.update_learning_rate', 'allennlp.training.learning_rate_schedulers', 'allennlp.training.learning_rate_schedulers.learning_rate_scheduler', 'allennlp.training.scheduler', 'allennlp.training.learning_rate_schedulers.cosine', 'allennlp.training.learning_rate_schedulers.noam', 'allennlp.training.learning_rate_schedulers.slanted_triangular', 'allennlp.training.callbacks.update_momentum', 'allennlp.training.momentum_schedulers', 'allennlp.training.momentum_schedulers.momentum_scheduler', 'allennlp.training.momentum_schedulers.inverted_triangular', 'allennlp.training.callbacks.checkpoint', 'allennlp.training.checkpointer', 'allennlp.training.moving_average', 'allennlp.training.callbacks.validate', 'allennlp.training.callbacks.track_metrics', 'allennlp.training.metric_tracker', 'allennlp.training.callbacks.gradient_norm_and_clip', 'allennlp.training.callbacks.post_to_url', 'allennlp.training.callbacks.update_moving_average', 'allennlp.training.optimizers', 'allennlp.training.trainer_pieces', 'allennlp.training.no_op_trainer', 'allennlp.training.trainer', 'allennlp.training.metrics', 'allennlp.training.metrics.attachment_scores', 'allennlp.training.metrics.metric', 'allennlp.training.metrics.average', 'allennlp.training.metrics.boolean_accuracy', 'allennlp.training.metrics.bleu', 'allennlp.training.metrics.categorical_accuracy', 'allennlp.training.metrics.conll_coref_scores', 'allennlp.training.metrics.covariance', 'allennlp.training.metrics.drop_em_and_f1', 'allennlp.tools.squad_eval', 'allennlp.tools.drop_eval', 'allennlp.training.metrics.entropy', 'allennlp.training.metrics.evalb_bracketing_scorer', 'allennlp.training.metrics.fbeta_measure', 'allennlp.training.metrics.f1_measure', 'allennlp.training.metrics.mean_absolute_error', 'allennlp.training.metrics.mention_recall', 'allennlp.training.metrics.pearson_correlation', 'allennlp.training.metrics.perplexity', 'allennlp.training.metrics.sequence_accuracy', 'allennlp.training.metrics.span_based_f1_measure', 'allennlp.training.metrics.squad_em_and_f1', 'allennlp.training.metrics.srl_eval_scorer', 'allennlp.models.srl_util', 'allennlp.training.metrics.unigram_recall', 'allennlp.training.metrics.auc', 'allennlp.models.biattentive_classification_network', 'allennlp.models.constituency_parser', 'allennlp.modules.span_extractors', 'allennlp.modules.span_extractors.span_extractor', 'allennlp.modules.span_extractors.endpoint_span_extractor', 'allennlp.modules.span_extractors.self_attentive_span_extractor', 'allennlp.modules.span_extractors.bidirectional_endpoint_span_extractor', 'allennlp.models.biaffine_dependency_parser', 'allennlp.nn.chu_liu_edmonds', 'allennlp.models.biaffine_dependency_parser_multilang', 'allennlp.models.coreference_resolution', 'allennlp.models.coreference_resolution.coref', 'allennlp.models.crf_tagger', 'allennlp.models.decomposable_attention', 'allennlp.models.event2mind', 'allennlp.nn.beam_search', 'allennlp.models.encoder_decoders', 'allennlp.models.encoder_decoders.simple_seq2seq', 'allennlp.models.encoder_decoders.composed_seq2seq', 'allennlp.modules.seq2seq_decoders', 'allennlp.modules.seq2seq_decoders.decoder_net', 'allennlp.modules.seq2seq_decoders.lstm_cell_decoder_net', 'allennlp.modules.seq2seq_decoders.stacked_self_attention_decoder_net', 'allennlp.modules.seq2seq_decoders.seq_decoder', 'allennlp.modules.seq2seq_decoders.auto_regressive_seq_decoder', 'allennlp.models.encoder_decoders.copynet_seq2seq', 'allennlp.models.reading_comprehension', 'allennlp.models.reading_comprehension.bidaf', 'allennlp.models.reading_comprehension.util', 'allennlp.models.reading_comprehension.bidaf_ensemble', 'allennlp.models.ensemble', 'allennlp.models.reading_comprehension.dialog_qa', 'allennlp.models.reading_comprehension.naqanet', 'allennlp.models.reading_comprehension.qanet', 'allennlp.models.semantic_parsing', 'allennlp.models.semantic_parsing.nlvr', 'allennlp.models.semantic_parsing.nlvr.nlvr_coverage_semantic_parser', 'allennlp.models.semantic_parsing.nlvr.nlvr_semantic_parser', 'allennlp.state_machines', 'allennlp.state_machines.beam_search', 'allennlp.state_machines.util', 'allennlp.state_machines.states', 'allennlp.state_machines.states.checklist_statelet', 'allennlp.state_machines.states.coverage_state', 'allennlp.state_machines.states.grammar_based_state', 'allennlp.state_machines.states.grammar_statelet', 'allennlp.state_machines.states.rnn_statelet', 'allennlp.state_machines.states.state', 'allennlp.state_machines.states.lambda_grammar_statelet', 'allennlp.state_machines.transition_functions', 'allennlp.state_machines.transition_functions.basic_transition_function', 'allennlp.state_machines.transition_functions.transition_function', 'allennlp.state_machines.transition_functions.coverage_transition_function', 'allennlp.state_machines.transition_functions.linking_coverage_transition_function', 'allennlp.state_machines.transition_functions.linking_transition_function', 'allennlp.state_machines.constrained_beam_search', 'allennlp.state_machines.trainers', 'allennlp.state_machines.trainers.decoder_trainer', 'allennlp.state_machines.trainers.expected_risk_minimization', 'allennlp.state_machines.trainers.maximum_marginal_likelihood', 'allennlp.models.semantic_parsing.nlvr.nlvr_direct_semantic_parser', 'allennlp.models.semantic_parsing.quarel', 'allennlp.models.semantic_parsing.quarel.quarel_semantic_parser', 'allennlp.models.semantic_parsing.wikitables', 'allennlp.models.semantic_parsing.wikitables.wikitables_mml_semantic_parser', 'allennlp.models.semantic_parsing.wikitables.wikitables_semantic_parser', 'allennlp.models.semantic_parsing.wikitables.wikitables_erm_semantic_parser', 'allennlp.models.semantic_parsing.atis', 'allennlp.models.semantic_parsing.atis.atis_semantic_parser', 'sqlparse', 'sqlparse.sql', 'sqlparse.tokens', 'sqlparse.utils', 'sqlparse.cli', 'sqlparse.exceptions', 'sqlparse.engine', 'sqlparse.engine.grouping', 'sqlparse.engine.filter_stack', 'sqlparse.lexer', 'sqlparse.keywords', 'sqlparse.engine.statement_splitter', 'sqlparse.filters', 'sqlparse.filters.others', 'sqlparse.filters.output', 'sqlparse.filters.tokens', 'sqlparse.filters.reindent', 'sqlparse.filters.right_margin', 'sqlparse.filters.aligned_indent', 'sqlparse.formatter', 'allennlp.semparse.executors', 'allennlp.semparse.executors.sql_executor', 'allennlp.models.semantic_parsing.text2sql_parser', 'allennlp.models.semantic_role_labeler', 'allennlp.models.simple_tagger', 'allennlp.models.esim', 'allennlp.models.bimpm', 'allennlp.models.graph_parser', 'allennlp.models.bidirectional_lm', 'allennlp.models.language_model', 'allennlp.modules.sampled_softmax_loss', 'allennlp.models.masked_language_model', 'allennlp.models.next_token_lm', 'allennlp.models.basic_classifier', 'allennlp.models.srl_bert', 'convlab2.nlu.milu.dataset_reader', 'convlab2.nlu.milu.model', 'convlab2.nlu.milu.dai_f1_measure', 'convlab2.nlu.milu.multilabel_f1_measure', 'convlab2.dst.rule', 'convlab2.dst.rule.multiwoz', 'convlab2.dst.rule.multiwoz.dst', 'convlab2.util.multiwoz', 'convlab2.util.multiwoz.state', 'convlab2.dst.rule.multiwoz.dst_util', 'convlab2.util.multiwoz.multiwoz_slot_trans', 'convlab2.policy.rule', 'convlab2.policy.rule.multiwoz', 'convlab2.policy.rule.multiwoz.rule', 'convlab2.policy.rule.multiwoz.rule_based_multiwoz_bot', 'convlab2.util.multiwoz.dbquery', 'fuzzywuzzy', 'fuzzywuzzy.fuzz', 'fuzzywuzzy.StringMatcher', 'Levenshtein', 'Levenshtein._levenshtein', 'fuzzywuzzy.utils', 'fuzzywuzzy.string_processing', 'convlab2.policy.rule.multiwoz.policy_agenda_multiwoz', 'convlab2.task', 'convlab2.task.multiwoz', 'convlab2.task.multiwoz.goal_generator', 'convlab2.nlg.template', 'convlab2.nlg.template.multiwoz', 'convlab2.nlg.template.multiwoz.nlg', 'convlab2.evaluator', 'convlab2.evaluator.multiwoz_eval', 'convlab2.evaluator.evaluator', 'netrc', 'en_core_web_sm', 'torch.backends.cudnn.rnn', 'convlab2.nlu.svm', 'convlab2.nlu.svm.multiwoz', 'convlab2.nlu.svm.multiwoz.nlu', 'convlab2.nlu.svm.Classifier', 'convlab2.nlu.svm.sutils', 'convlab2.nlu.svm.Tuples', 'convlab2.nlu.svm.Features', 'convlab2.dst.sumbt', 'convlab2.dst.sumbt.BeliefTrackerSlotQueryMultiSlot', 'convlab2.dst.sumbt.multiwoz', 'convlab2.dst.sumbt.multiwoz.sumbt', 'tqdm._tqdm', 'convlab2.dst.sumbt.multiwoz.convert_to_glue_format', 'convlab2.dst.sumbt.multiwoz.sumbt_config', 'convlab2.dst.sumbt.multiwoz.sumbt_utils', 'convlab2.dst.trade', 'convlab2.dst.trade.multiwoz', 'convlab2.dst.trade.multiwoz.trade', 'convlab2.dst.trade.multiwoz.utils', 'convlab2.dst.trade.multiwoz.utils.masked_cross_entropy', 'convlab2.dst.trade.multiwoz.utils.config', 'convlab2.dst.trade.multiwoz.utils.utils_multiWOZ_DST', 'embeddings', 'embeddings.glove', 'embeddings.embedding', 'embeddings.fasttext', 'embeddings.kazuma', 'embeddings.concat', 'convlab2.dst.trade.multiwoz.utils.fix_label', 'convlab2.dst.trade.trade', 'convlab2.policy.ppo', 'convlab2.policy.ppo.ppo', 'convlab2.policy.rlmodule', 'convlab2.util.train_util', 'convlab2.policy.vector', 'convlab2.policy.vector.vector_multiwoz', 'convlab2.policy.vec', 'convlab2.util.multiwoz.lexicalize', 'convlab2.policy.ppo.multiwoz', 'convlab2.policy.ppo.multiwoz.ppo_policy', 'convlab2.policy.pg', 'convlab2.policy.pg.pg', 'convlab2.policy.pg.multiwoz', 'convlab2.policy.pg.multiwoz.pg_policy', 'convlab2.policy.mle', 'convlab2.policy.mle.multiwoz', 'convlab2.policy.mle.multiwoz.mle', 'convlab2.policy.mle.mle', 'convlab2.policy.gdpl', 'convlab2.policy.gdpl.gdpl', 'convlab2.policy.gdpl.estimator', 'convlab2.policy.vector.dataset', 'convlab2.policy.mle.multiwoz.loader', 'convlab2.policy.mle.loader', 'convlab2.util.dataloader', 'convlab2.util.dataloader.dataset_dataloader', 'convlab2.util.dataloader.module_dataloader', 'convlab2.policy.gdpl.multiwoz', 'convlab2.policy.gdpl.multiwoz.gdpl_policy', 'convlab2.policy.vhus', 'convlab2.policy.vhus.multiwoz', 'convlab2.policy.vhus.multiwoz.vhus', 'convlab2.policy.vhus.util', 'convlab2.policy.vhus.multiwoz.usermanager', 'convlab2.policy.vhus.usermodule', 'convlab2.policy.vhus.vhus', 'convlab2.policy.mdrg', 'convlab2.policy.mdrg.multiwoz', 'convlab2.policy.mdrg.multiwoz.policy', 'convlab2.policy.mdrg.multiwoz.utils', 'convlab2.policy.mdrg.multiwoz.utils.delexicalize', 'convlab2.policy.mdrg.multiwoz.utils.nlp', 'convlab2.policy.mdrg.multiwoz.utils.util', 'convlab2.policy.mdrg.multiwoz.utils.dbPointer', 'convlab2.policy.mdrg.multiwoz.evaluator', 'convlab2.policy.mdrg.multiwoz.mdrg_model', 'convlab2.policy.mdrg.multiwoz.default_policy', 'convlab2.policy.mdrg.multiwoz.create_delex_data', 'convlab2.policy.hdsa', 'convlab2.policy.hdsa.multiwoz', 'convlab2.policy.hdsa.multiwoz.hdsa', 'convlab2.policy.hdsa.multiwoz.predictor', 'convlab2.policy.hdsa.multiwoz.transformer', 'convlab2.policy.hdsa.multiwoz.transformer.Constants', 'convlab2.policy.hdsa.multiwoz.generator', 'convlab2.policy.hdsa.multiwoz.transformer.Transformer', 'convlab2.policy.hdsa.multiwoz.transformer.Beam', 'convlab2.policy.larl', 'convlab2.policy.larl.multiwoz', 'convlab2.policy.larl.multiwoz.larl', 'convlab2.policy.larl.multiwoz.corpora_inference', 'convlab2.policy.larl.multiwoz.latent_dialog', 'convlab2.policy.larl.multiwoz.latent_dialog.utils', 'convlab2.policy.larl.multiwoz.latent_dialog.enc2dec', 'convlab2.policy.larl.multiwoz.latent_dialog.enc2dec.decoders', 'convlab2.policy.larl.multiwoz.latent_dialog.enc2dec.base_modules', 'convlab2.policy.larl.multiwoz.latent_dialog.corpora', 'convlab2.policy.larl.multiwoz.utils', 'convlab2.policy.larl.multiwoz.utils.nlp', 'convlab2.policy.larl.multiwoz.utils.util', 'convlab2.policy.larl.multiwoz.utils.delexicalize', 'convlab2.policy.larl.multiwoz.latent_dialog.domain', 'convlab2.policy.larl.multiwoz.latent_dialog.models_task', 'convlab2.policy.larl.multiwoz.latent_dialog.base_models', 'convlab2.policy.larl.multiwoz.latent_dialog.enc2dec.encoders', 'convlab2.policy.larl.multiwoz.latent_dialog.criterions', 'convlab2.policy.larl.multiwoz.latent_dialog.nn_lib', 'convlab2.nlg.sclstm', 'convlab2.nlg.sclstm.multiwoz', 'convlab2.nlg.sclstm.multiwoz.sc_lstm', 'convlab2.nlg.sclstm.multiwoz.loader', 'convlab2.nlg.sclstm.multiwoz.loader.dataset_woz', 'convlab2.nlg.sclstm.model', 'convlab2.nlg.sclstm.model.lm_deep', 'convlab2.nlg.sclstm.model.layers', 'convlab2.nlg.sclstm.model.layers.decoder_deep', 'convlab2.nlg.sclstm.model.masked_cross_entropy', 'convlab2.e2e', 'convlab2.e2e.sequicity', 'convlab2.e2e.sequicity.multiwoz', 'convlab2.e2e.sequicity.multiwoz.sequicity', 'convlab2.e2e.sequicity.config', 'convlab2.e2e.sequicity.model', 'convlab2.e2e.sequicity.metric', 'convlab2.e2e.sequicity.reader', 'convlab2.e2e.sequicity.tsd_net', 'convlab2.e2e.damd', 'convlab2.e2e.damd.multiwoz', 'convlab2.e2e.damd.multiwoz.damd', 'convlab2.e2e.damd.multiwoz.config', 'convlab2.e2e.damd.multiwoz.reader', 'convlab2.e2e.damd.multiwoz.db_ops', 'convlab2.e2e.damd.multiwoz.ontology', 'convlab2.e2e.damd.multiwoz.clean_dataset', 'convlab2.e2e.damd.multiwoz.utils', 'convlab2.e2e.damd.multiwoz.damd_net', 'convlab2.util.analysis_tool', 'convlab2.util.analysis_tool.analyzer', 'matplotlib', 'matplotlib.cbook', 'matplotlib.cbook.deprecation', 'matplotlib.rcsetup', 'matplotlib.animation', 'matplotlib._animation_data', 'matplotlib.fontconfig_pattern', 'pyparsing', 'matplotlib.colors', 'matplotlib.docstring', 'matplotlib._color_data', 'cycler', 'matplotlib._version', 'matplotlib.ft2font', 'kiwisolver']\n"
     ]
    },
    {
     "name": "stderr",
     "output_type": "stream",
     "text": [
      "01/11/2021 00:58:07 - DEBUG - matplotlib -   CACHEDIR=/home/archraven/.cache/matplotlib\n",
      "01/11/2021 00:58:07 - DEBUG - matplotlib.font_manager -   Using fontManager instance from /home/archraven/.cache/matplotlib/fontlist-v330.json\n",
      "01/11/2021 00:58:07 - DEBUG - matplotlib.pyplot -   Loaded backend module://ipykernel.pylab.backend_inline version unknown.\n",
      "01/11/2021 00:58:07 - DEBUG - matplotlib.pyplot -   Loaded backend module://ipykernel.pylab.backend_inline version unknown.\n",
      "01/11/2021 00:58:07 - DEBUG - matplotlib.pyplot -   Loaded backend agg version unknown.\n",
      "dialogue:   1%|          | 1/100 [00:00<01:03,  1.57it/s]01/11/2021 00:58:08 - DEBUG - root -   Value not found in standard value set: [57814143479] (slot: phone domain: taxi)\n",
      "01/11/2021 00:58:08 - DEBUG - root -   Value not found in standard value set: [63153575725] (slot: phone domain: taxi)\n",
      "01/11/2021 00:58:09 - DEBUG - root -   Value not found in standard value set: [26224196313] (slot: phone domain: taxi)\n",
      "01/11/2021 00:58:09 - DEBUG - root -   Value not found in standard value set: [08730698587] (slot: phone domain: taxi)\n",
      "01/11/2021 00:58:09 - DEBUG - root -   Value not found in standard value set: [61801407233] (slot: phone domain: taxi)\n",
      "01/11/2021 00:58:09 - DEBUG - root -   Value not found in standard value set: [87411617343] (slot: phone domain: taxi)\n",
      "01/11/2021 00:58:09 - DEBUG - root -   Value not found in standard value set: [91709380865] (slot: phone domain: taxi)\n",
      "01/11/2021 00:58:09 - DEBUG - root -   Value not found in standard value set: [21587288110] (slot: phone domain: taxi)\n",
      "01/11/2021 00:58:09 - DEBUG - root -   Value not found in standard value set: [17819087326] (slot: phone domain: taxi)\n",
      "01/11/2021 00:58:09 - DEBUG - root -   Value not found in standard value set: [20027314678] (slot: phone domain: taxi)\n",
      "01/11/2021 00:58:09 - DEBUG - root -   Value not found in standard value set: [19586484542] (slot: phone domain: taxi)\n",
      "dialogue:   5%|▌         | 5/100 [00:03<00:54,  1.74it/s]01/11/2021 00:58:11 - DEBUG - root -   Value not found in standard value set: [46864864786] (slot: phone domain: taxi)\n",
      "01/11/2021 00:58:11 - DEBUG - root -   Value not found in standard value set: [72183706986] (slot: phone domain: taxi)\n",
      "01/11/2021 00:58:11 - DEBUG - root -   Value not found in standard value set: [82707798592] (slot: phone domain: taxi)\n",
      "01/11/2021 00:58:11 - DEBUG - root -   Value not found in standard value set: [24504002160] (slot: phone domain: taxi)\n",
      "01/11/2021 00:58:11 - DEBUG - root -   Value not found in standard value set: [09386927080] (slot: phone domain: taxi)\n",
      "dialogue:  10%|█         | 10/100 [00:06<00:55,  1.61it/s]01/11/2021 00:58:14 - DEBUG - root -   Value not found in standard value set: [in town] (slot: area domain: restaurant)\n",
      "dialogue:  17%|█▋        | 17/100 [00:10<00:43,  1.92it/s]01/11/2021 00:58:18 - DEBUG - root -   Value not found in standard value set: [46859394466] (slot: phone domain: taxi)\n",
      "01/11/2021 00:58:18 - DEBUG - root -   Value not found in standard value set: [69399369279] (slot: phone domain: taxi)\n",
      "01/11/2021 00:58:18 - DEBUG - root -   Value not found in standard value set: [53484722864] (slot: phone domain: taxi)\n",
      "01/11/2021 00:58:18 - DEBUG - root -   Value not found in standard value set: [09202787101] (slot: phone domain: taxi)\n",
      "01/11/2021 00:58:18 - DEBUG - root -   Value not found in standard value set: [89482919585] (slot: phone domain: taxi)\n",
      "01/11/2021 00:58:18 - DEBUG - root -   Value not found in standard value set: [50708212792] (slot: phone domain: taxi)\n",
      "01/11/2021 00:58:18 - DEBUG - root -   Value not found in standard value set: [73276138874] (slot: phone domain: taxi)\n",
      "01/11/2021 00:58:19 - DEBUG - root -   Value not found in standard value set: [93273641252] (slot: phone domain: taxi)\n",
      "dialogue:  18%|█▊        | 18/100 [00:11<00:53,  1.53it/s]01/11/2021 00:58:19 - DEBUG - root -   Value not found in standard value set: [22077392874] (slot: phone domain: taxi)\n",
      "01/11/2021 00:58:19 - DEBUG - root -   Value not found in standard value set: [50176437046] (slot: phone domain: taxi)\n",
      "01/11/2021 00:58:19 - DEBUG - root -   Value not found in standard value set: [14632367672] (slot: phone domain: taxi)\n",
      "01/11/2021 00:58:19 - DEBUG - root -   Value not found in standard value set: [89972488616] (slot: phone domain: taxi)\n",
      "01/11/2021 00:58:19 - DEBUG - root -   Value not found in standard value set: [81325624544] (slot: phone domain: taxi)\n",
      "dialogue:  21%|██        | 21/100 [00:13<00:47,  1.65it/s]01/11/2021 00:58:21 - DEBUG - root -   Value not found in standard value set: [new] (slot: trainID domain: train)\n",
      "01/11/2021 00:58:21 - DEBUG - root -   Value not found in standard value set: [street] (slot: trainID domain: train)\n",
      "dialogue:  25%|██▌       | 25/100 [00:18<01:36,  1.28s/it]01/11/2021 00:58:26 - DEBUG - root -   Value not found in standard value set: [do n't care] (slot: leaveAt domain: train)\n",
      "dialogue:  29%|██▉       | 29/100 [00:20<00:49,  1.44it/s]01/11/2021 00:58:28 - DEBUG - root -   Value not found in standard value set: [that area of town] (slot: area domain: hotel)\n",
      "01/11/2021 00:58:28 - DEBUG - root -   Value not found in standard value set: [26665014988] (slot: phone domain: taxi)\n",
      "01/11/2021 00:58:28 - DEBUG - root -   Value not found in standard value set: [22255783100] (slot: phone domain: taxi)\n",
      "01/11/2021 00:58:28 - DEBUG - root -   Value not found in standard value set: [36722332475] (slot: phone domain: taxi)\n",
      "01/11/2021 00:58:28 - DEBUG - root -   Value not found in standard value set: [44966452907] (slot: phone domain: taxi)\n",
      "01/11/2021 00:58:28 - DEBUG - root -   Value not found in standard value set: [83880310398] (slot: phone domain: taxi)\n",
      "01/11/2021 00:58:28 - DEBUG - root -   Value not found in standard value set: [49772813360] (slot: phone domain: taxi)\n",
      "01/11/2021 00:58:29 - DEBUG - root -   Value not found in standard value set: [07661558787] (slot: phone domain: taxi)\n",
      "01/11/2021 00:58:29 - DEBUG - root -   Value not found in standard value set: [99264413729] (slot: phone domain: taxi)\n",
      "01/11/2021 00:58:29 - DEBUG - root -   Value not found in standard value set: [19198294832] (slot: phone domain: taxi)\n",
      "01/11/2021 00:58:29 - DEBUG - root -   Value not found in standard value set: [02877606630] (slot: phone domain: taxi)\n",
      "01/11/2021 00:58:29 - DEBUG - root -   Value not found in standard value set: [73362095170] (slot: phone domain: taxi)\n",
      "01/11/2021 00:58:29 - DEBUG - root -   Value not found in standard value set: [06002457815] (slot: phone domain: taxi)\n",
      "01/11/2021 00:58:29 - DEBUG - root -   Value not found in standard value set: [83132999917] (slot: phone domain: taxi)\n",
      "dialogue:  30%|███       | 30/100 [00:21<01:04,  1.09it/s]01/11/2021 00:58:29 - DEBUG - root -   Value not found in standard value set: [same] (slot: area domain: restaurant)\n",
      "dialogue:  31%|███       | 31/100 [00:22<00:51,  1.34it/s]01/11/2021 00:58:30 - DEBUG - root -   Value not found in standard value set: [39987861382] (slot: phone domain: taxi)\n",
      "01/11/2021 00:58:30 - DEBUG - root -   Value not found in standard value set: [51173640092] (slot: phone domain: taxi)\n",
      "01/11/2021 00:58:30 - DEBUG - root -   Value not found in standard value set: [08310430572] (slot: phone domain: taxi)\n",
      "01/11/2021 00:58:30 - DEBUG - root -   Value not found in standard value set: [91117979634] (slot: phone domain: taxi)\n",
      "01/11/2021 00:58:30 - DEBUG - root -   Value not found in standard value set: [71875131576] (slot: phone domain: taxi)\n",
      "dialogue:  37%|███▋      | 37/100 [00:26<00:45,  1.39it/s]01/11/2021 00:58:34 - DEBUG - root -   Value not found in standard value set: [do n't care] (slot: arriveBy domain: train)\n",
      "01/11/2021 00:58:34 - DEBUG - root -   Value not found in standard value set: [do n't care] (slot: arriveBy domain: train)\n",
      "dialogue:  39%|███▉      | 39/100 [00:27<00:37,  1.64it/s]01/11/2021 00:58:36 - DEBUG - root -   Value not found in standard value set: [do n't care] (slot: leaveAt domain: train)\n",
      "dialogue:  46%|████▌     | 46/100 [00:33<00:57,  1.06s/it]01/11/2021 00:58:42 - DEBUG - root -   Value not found in standard value set: [16362846045] (slot: phone domain: taxi)\n",
      "01/11/2021 00:58:42 - DEBUG - root -   Value not found in standard value set: [29397127457] (slot: phone domain: taxi)\n"
     ]
    },
    {
     "name": "stderr",
     "output_type": "stream",
     "text": [
      "01/11/2021 00:58:42 - DEBUG - root -   Value not found in standard value set: [48024595135] (slot: phone domain: taxi)\n",
      "01/11/2021 00:58:42 - DEBUG - root -   Value not found in standard value set: [15055936873] (slot: phone domain: taxi)\n",
      "01/11/2021 00:58:42 - DEBUG - root -   Value not found in standard value set: [94647736980] (slot: phone domain: taxi)\n",
      "01/11/2021 00:58:42 - DEBUG - root -   Value not found in standard value set: [76515124150] (slot: phone domain: taxi)\n",
      "01/11/2021 00:58:42 - DEBUG - root -   Value not found in standard value set: [56356466654] (slot: phone domain: taxi)\n",
      "01/11/2021 00:58:42 - DEBUG - root -   Value not found in standard value set: [88120397188] (slot: phone domain: taxi)\n",
      "01/11/2021 00:58:42 - DEBUG - root -   Value not found in standard value set: [38799992945] (slot: phone domain: taxi)\n",
      "01/11/2021 00:58:42 - DEBUG - root -   Value not found in standard value set: [30279814384] (slot: phone domain: taxi)\n",
      "01/11/2021 00:58:42 - DEBUG - root -   Value not found in standard value set: [95011634017] (slot: phone domain: taxi)\n",
      "01/11/2021 00:58:43 - DEBUG - root -   Value not found in standard value set: [88738311239] (slot: phone domain: taxi)\n",
      "dialogue:  50%|█████     | 50/100 [00:36<00:28,  1.73it/s]01/11/2021 00:58:44 - DEBUG - root -   Value not found in standard value set: [66] (slot: price domain: train)\n",
      "dialogue:  53%|█████▎    | 53/100 [00:37<00:19,  2.45it/s]01/11/2021 00:58:45 - DEBUG - root -   Value not found in standard value set: [do n't care] (slot: arriveBy domain: train)\n",
      "dialogue:  53%|█████▎    | 53/100 [00:37<00:33,  1.40it/s]\n"
     ]
    },
    {
     "ename": "KeyboardInterrupt",
     "evalue": "",
     "output_type": "error",
     "traceback": [
      "\u001b[0;31m---------------------------------------------------------------------------\u001b[0m",
      "\u001b[0;31mKeyboardInterrupt\u001b[0m                         Traceback (most recent call last)",
      "\u001b[0;32m<ipython-input-19-5d25fce3ad8f>\u001b[0m in \u001b[0;36m<module>\u001b[0;34m\u001b[0m\n\u001b[1;32m      5\u001b[0m \u001b[0;34m\u001b[0m\u001b[0m\n\u001b[1;32m      6\u001b[0m \u001b[0mset_seed\u001b[0m\u001b[0;34m(\u001b[0m\u001b[0;36m20200131\u001b[0m\u001b[0;34m)\u001b[0m\u001b[0;34m\u001b[0m\u001b[0;34m\u001b[0m\u001b[0m\n\u001b[0;32m----> 7\u001b[0;31m \u001b[0manalyzer\u001b[0m\u001b[0;34m.\u001b[0m\u001b[0mcomprehensive_analyze\u001b[0m\u001b[0;34m(\u001b[0m\u001b[0msys_agent\u001b[0m\u001b[0;34m=\u001b[0m\u001b[0msys_agent\u001b[0m\u001b[0;34m,\u001b[0m \u001b[0mmodel_name\u001b[0m\u001b[0;34m=\u001b[0m\u001b[0;34m'sys_agent'\u001b[0m\u001b[0;34m,\u001b[0m \u001b[0mtotal_dialog\u001b[0m\u001b[0;34m=\u001b[0m\u001b[0;36m100\u001b[0m\u001b[0;34m)\u001b[0m\u001b[0;34m\u001b[0m\u001b[0;34m\u001b[0m\u001b[0m\n\u001b[0m",
      "\u001b[0;32m~/Documents/GitHub/ConvLab-2/convlab2/util/analysis_tool/analyzer.py\u001b[0m in \u001b[0;36mcomprehensive_analyze\u001b[0;34m(self, sys_agent, model_name, total_dialog)\u001b[0m\n\u001b[1;32m    111\u001b[0m             \u001b[0;32mfor\u001b[0m \u001b[0mi\u001b[0m \u001b[0;32min\u001b[0m \u001b[0mrange\u001b[0m\u001b[0;34m(\u001b[0m\u001b[0;36m40\u001b[0m\u001b[0;34m)\u001b[0m\u001b[0;34m:\u001b[0m\u001b[0;34m\u001b[0m\u001b[0;34m\u001b[0m\u001b[0m\n\u001b[1;32m    112\u001b[0m                 sys_response, user_response, session_over, reward = sess.next_turn(\n\u001b[0;32m--> 113\u001b[0;31m                     sys_response)\n\u001b[0m\u001b[1;32m    114\u001b[0m                 \u001b[0mprint\u001b[0m\u001b[0;34m(\u001b[0m\u001b[0;34m'user in'\u001b[0m\u001b[0;34m,\u001b[0m \u001b[0msess\u001b[0m\u001b[0;34m.\u001b[0m\u001b[0muser_agent\u001b[0m\u001b[0;34m.\u001b[0m\u001b[0mget_in_da\u001b[0m\u001b[0;34m(\u001b[0m\u001b[0;34m)\u001b[0m\u001b[0;34m,\u001b[0m\u001b[0mfile\u001b[0m\u001b[0;34m=\u001b[0m\u001b[0mflog\u001b[0m\u001b[0;34m)\u001b[0m\u001b[0;34m\u001b[0m\u001b[0;34m\u001b[0m\u001b[0m\n\u001b[1;32m    115\u001b[0m                 \u001b[0mprint\u001b[0m\u001b[0;34m(\u001b[0m\u001b[0;34m'user out'\u001b[0m\u001b[0;34m,\u001b[0m \u001b[0msess\u001b[0m\u001b[0;34m.\u001b[0m\u001b[0muser_agent\u001b[0m\u001b[0;34m.\u001b[0m\u001b[0mget_out_da\u001b[0m\u001b[0;34m(\u001b[0m\u001b[0;34m)\u001b[0m\u001b[0;34m,\u001b[0m\u001b[0mfile\u001b[0m\u001b[0;34m=\u001b[0m\u001b[0mflog\u001b[0m\u001b[0;34m)\u001b[0m\u001b[0;34m\u001b[0m\u001b[0;34m\u001b[0m\u001b[0m\n",
      "\u001b[0;32m~/Documents/GitHub/ConvLab-2/convlab2/dialog_agent/session.py\u001b[0m in \u001b[0;36mnext_turn\u001b[0;34m(self, last_observation)\u001b[0m\n\u001b[1;32m    128\u001b[0m             \u001b[0;31m# print('task success {}'.format(self.evaluator.task_success()))\u001b[0m\u001b[0;34m\u001b[0m\u001b[0;34m\u001b[0m\u001b[0;34m\u001b[0m\u001b[0m\n\u001b[1;32m    129\u001b[0m         \u001b[0mreward\u001b[0m \u001b[0;34m=\u001b[0m \u001b[0mself\u001b[0m\u001b[0;34m.\u001b[0m\u001b[0muser_agent\u001b[0m\u001b[0;34m.\u001b[0m\u001b[0mget_reward\u001b[0m\u001b[0;34m(\u001b[0m\u001b[0;34m)\u001b[0m\u001b[0;34m\u001b[0m\u001b[0;34m\u001b[0m\u001b[0m\n\u001b[0;32m--> 130\u001b[0;31m         \u001b[0msys_response\u001b[0m \u001b[0;34m=\u001b[0m \u001b[0mself\u001b[0m\u001b[0;34m.\u001b[0m\u001b[0mnext_response\u001b[0m\u001b[0;34m(\u001b[0m\u001b[0muser_response\u001b[0m\u001b[0;34m)\u001b[0m\u001b[0;34m\u001b[0m\u001b[0;34m\u001b[0m\u001b[0m\n\u001b[0m\u001b[1;32m    131\u001b[0m         \u001b[0mself\u001b[0m\u001b[0;34m.\u001b[0m\u001b[0mdialog_history\u001b[0m\u001b[0;34m.\u001b[0m\u001b[0mappend\u001b[0m\u001b[0;34m(\u001b[0m\u001b[0;34m[\u001b[0m\u001b[0mself\u001b[0m\u001b[0;34m.\u001b[0m\u001b[0muser_agent\u001b[0m\u001b[0;34m.\u001b[0m\u001b[0mname\u001b[0m\u001b[0;34m,\u001b[0m \u001b[0muser_response\u001b[0m\u001b[0;34m]\u001b[0m\u001b[0;34m)\u001b[0m\u001b[0;34m\u001b[0m\u001b[0;34m\u001b[0m\u001b[0m\n\u001b[1;32m    132\u001b[0m         \u001b[0mself\u001b[0m\u001b[0;34m.\u001b[0m\u001b[0mdialog_history\u001b[0m\u001b[0;34m.\u001b[0m\u001b[0mappend\u001b[0m\u001b[0;34m(\u001b[0m\u001b[0;34m[\u001b[0m\u001b[0mself\u001b[0m\u001b[0;34m.\u001b[0m\u001b[0msys_agent\u001b[0m\u001b[0;34m.\u001b[0m\u001b[0mname\u001b[0m\u001b[0;34m,\u001b[0m \u001b[0msys_response\u001b[0m\u001b[0;34m]\u001b[0m\u001b[0;34m)\u001b[0m\u001b[0;34m\u001b[0m\u001b[0;34m\u001b[0m\u001b[0m\n",
      "\u001b[0;32m~/Documents/GitHub/ConvLab-2/convlab2/dialog_agent/session.py\u001b[0m in \u001b[0;36mnext_response\u001b[0;34m(self, observation)\u001b[0m\n\u001b[1;32m     90\u001b[0m     \u001b[0;32mdef\u001b[0m \u001b[0mnext_response\u001b[0m\u001b[0;34m(\u001b[0m\u001b[0mself\u001b[0m\u001b[0;34m,\u001b[0m \u001b[0mobservation\u001b[0m\u001b[0;34m)\u001b[0m\u001b[0;34m:\u001b[0m\u001b[0;34m\u001b[0m\u001b[0;34m\u001b[0m\u001b[0m\n\u001b[1;32m     91\u001b[0m         \u001b[0mnext_agent\u001b[0m \u001b[0;34m=\u001b[0m \u001b[0mself\u001b[0m\u001b[0;34m.\u001b[0m\u001b[0mnext_agent\u001b[0m\u001b[0;34m(\u001b[0m\u001b[0;34m)\u001b[0m\u001b[0;34m\u001b[0m\u001b[0;34m\u001b[0m\u001b[0m\n\u001b[0;32m---> 92\u001b[0;31m         \u001b[0mresponse\u001b[0m \u001b[0;34m=\u001b[0m \u001b[0mnext_agent\u001b[0m\u001b[0;34m.\u001b[0m\u001b[0mresponse\u001b[0m\u001b[0;34m(\u001b[0m\u001b[0mobservation\u001b[0m\u001b[0;34m)\u001b[0m\u001b[0;34m\u001b[0m\u001b[0;34m\u001b[0m\u001b[0m\n\u001b[0m\u001b[1;32m     93\u001b[0m         \u001b[0;32mreturn\u001b[0m \u001b[0mresponse\u001b[0m\u001b[0;34m\u001b[0m\u001b[0;34m\u001b[0m\u001b[0m\n\u001b[1;32m     94\u001b[0m \u001b[0;34m\u001b[0m\u001b[0m\n",
      "\u001b[0;32m~/Documents/GitHub/ConvLab-2/convlab2/dialog_agent/agent.py\u001b[0m in \u001b[0;36mresponse\u001b[0;34m(self, observation)\u001b[0m\n\u001b[1;32m    120\u001b[0m         \u001b[0;31m# get dialog act\u001b[0m\u001b[0;34m\u001b[0m\u001b[0;34m\u001b[0m\u001b[0;34m\u001b[0m\u001b[0m\n\u001b[1;32m    121\u001b[0m         \u001b[0;32mif\u001b[0m \u001b[0mself\u001b[0m\u001b[0;34m.\u001b[0m\u001b[0mnlu\u001b[0m \u001b[0;32mis\u001b[0m \u001b[0;32mnot\u001b[0m \u001b[0;32mNone\u001b[0m\u001b[0;34m:\u001b[0m\u001b[0;34m\u001b[0m\u001b[0;34m\u001b[0m\u001b[0m\n\u001b[0;32m--> 122\u001b[0;31m             \u001b[0mself\u001b[0m\u001b[0;34m.\u001b[0m\u001b[0minput_action\u001b[0m \u001b[0;34m=\u001b[0m \u001b[0mself\u001b[0m\u001b[0;34m.\u001b[0m\u001b[0mnlu\u001b[0m\u001b[0;34m.\u001b[0m\u001b[0mpredict\u001b[0m\u001b[0;34m(\u001b[0m\u001b[0mobservation\u001b[0m\u001b[0;34m,\u001b[0m \u001b[0mcontext\u001b[0m\u001b[0;34m=\u001b[0m\u001b[0;34m[\u001b[0m\u001b[0mx\u001b[0m\u001b[0;34m[\u001b[0m\u001b[0;36m1\u001b[0m\u001b[0;34m]\u001b[0m \u001b[0;32mfor\u001b[0m \u001b[0mx\u001b[0m \u001b[0;32min\u001b[0m \u001b[0mself\u001b[0m\u001b[0;34m.\u001b[0m\u001b[0mhistory\u001b[0m\u001b[0;34m[\u001b[0m\u001b[0;34m:\u001b[0m\u001b[0;34m-\u001b[0m\u001b[0;36m1\u001b[0m\u001b[0;34m]\u001b[0m\u001b[0;34m]\u001b[0m\u001b[0;34m)\u001b[0m\u001b[0;34m\u001b[0m\u001b[0;34m\u001b[0m\u001b[0m\n\u001b[0m\u001b[1;32m    123\u001b[0m         \u001b[0;32melse\u001b[0m\u001b[0;34m:\u001b[0m\u001b[0;34m\u001b[0m\u001b[0;34m\u001b[0m\u001b[0m\n\u001b[1;32m    124\u001b[0m             \u001b[0mself\u001b[0m\u001b[0;34m.\u001b[0m\u001b[0minput_action\u001b[0m \u001b[0;34m=\u001b[0m \u001b[0mobservation\u001b[0m\u001b[0;34m\u001b[0m\u001b[0;34m\u001b[0m\u001b[0m\n",
      "\u001b[0;32m~/Documents/GitHub/ConvLab-2/convlab2/nlu/jointBERT/multiwoz/nlu.py\u001b[0m in \u001b[0;36mpredict\u001b[0;34m(self, utterance, context)\u001b[0m\n\u001b[1;32m     94\u001b[0m                                                         context_mask_tensor=context_mask_tensor)\n\u001b[1;32m     95\u001b[0m         das = recover_intent(self.dataloader, intent_logits[0], slot_logits[0], tag_mask_tensor[0],\n\u001b[0;32m---> 96\u001b[0;31m                              batch_data[0][0], batch_data[0][-4])\n\u001b[0m\u001b[1;32m     97\u001b[0m         \u001b[0mdialog_act\u001b[0m \u001b[0;34m=\u001b[0m \u001b[0;34m[\u001b[0m\u001b[0;34m]\u001b[0m\u001b[0;34m\u001b[0m\u001b[0;34m\u001b[0m\u001b[0m\n\u001b[1;32m     98\u001b[0m         \u001b[0;32mfor\u001b[0m \u001b[0mintent\u001b[0m\u001b[0;34m,\u001b[0m \u001b[0mslot\u001b[0m\u001b[0;34m,\u001b[0m \u001b[0mvalue\u001b[0m \u001b[0;32min\u001b[0m \u001b[0mdas\u001b[0m\u001b[0;34m:\u001b[0m\u001b[0;34m\u001b[0m\u001b[0;34m\u001b[0m\u001b[0m\n",
      "\u001b[0;32m~/Documents/GitHub/ConvLab-2/convlab2/nlu/jointBERT/multiwoz/postprocess.py\u001b[0m in \u001b[0;36mrecover_intent\u001b[0;34m(dataloader, intent_logits, tag_logits, tag_mask_tensor, ori_word_seq, new2ori)\u001b[0m\n\u001b[1;32m     71\u001b[0m     \u001b[0mintents\u001b[0m \u001b[0;34m=\u001b[0m \u001b[0;34m[\u001b[0m\u001b[0;34m]\u001b[0m\u001b[0;34m\u001b[0m\u001b[0;34m\u001b[0m\u001b[0m\n\u001b[1;32m     72\u001b[0m     \u001b[0;32mfor\u001b[0m \u001b[0mj\u001b[0m \u001b[0;32min\u001b[0m \u001b[0mrange\u001b[0m\u001b[0;34m(\u001b[0m\u001b[0mdataloader\u001b[0m\u001b[0;34m.\u001b[0m\u001b[0mintent_dim\u001b[0m\u001b[0;34m)\u001b[0m\u001b[0;34m:\u001b[0m\u001b[0;34m\u001b[0m\u001b[0;34m\u001b[0m\u001b[0m\n\u001b[0;32m---> 73\u001b[0;31m         \u001b[0;32mif\u001b[0m \u001b[0mintent_logits\u001b[0m\u001b[0;34m[\u001b[0m\u001b[0mj\u001b[0m\u001b[0;34m]\u001b[0m \u001b[0;34m>\u001b[0m \u001b[0;36m0\u001b[0m\u001b[0;34m:\u001b[0m\u001b[0;34m\u001b[0m\u001b[0;34m\u001b[0m\u001b[0m\n\u001b[0m\u001b[1;32m     74\u001b[0m             \u001b[0mintent\u001b[0m\u001b[0;34m,\u001b[0m \u001b[0mslot\u001b[0m\u001b[0;34m,\u001b[0m \u001b[0mvalue\u001b[0m \u001b[0;34m=\u001b[0m \u001b[0mre\u001b[0m\u001b[0;34m.\u001b[0m\u001b[0msplit\u001b[0m\u001b[0;34m(\u001b[0m\u001b[0;34m'[+*]'\u001b[0m\u001b[0;34m,\u001b[0m \u001b[0mdataloader\u001b[0m\u001b[0;34m.\u001b[0m\u001b[0mid2intent\u001b[0m\u001b[0;34m[\u001b[0m\u001b[0mj\u001b[0m\u001b[0;34m]\u001b[0m\u001b[0;34m)\u001b[0m\u001b[0;34m\u001b[0m\u001b[0;34m\u001b[0m\u001b[0m\n\u001b[1;32m     75\u001b[0m             \u001b[0mintents\u001b[0m\u001b[0;34m.\u001b[0m\u001b[0mappend\u001b[0m\u001b[0;34m(\u001b[0m\u001b[0;34m[\u001b[0m\u001b[0mintent\u001b[0m\u001b[0;34m,\u001b[0m \u001b[0mslot\u001b[0m\u001b[0;34m,\u001b[0m \u001b[0mvalue\u001b[0m\u001b[0;34m]\u001b[0m\u001b[0;34m)\u001b[0m\u001b[0;34m\u001b[0m\u001b[0;34m\u001b[0m\u001b[0m\n",
      "\u001b[0;31mKeyboardInterrupt\u001b[0m: "
     ]
    }
   ],
   "source": [
    "from convlab2.util.analysis_tool.analyzer import Analyzer\n",
    "\n",
    "# if sys_nlu!=None, set use_nlu=True to collect more information\n",
    "analyzer = Analyzer(user_agent=user_agent, dataset='multiwoz')\n",
    "\n",
    "set_seed(20200131)\n",
    "analyzer.comprehensive_analyze(sys_agent=sys_agent, model_name='sys_agent', total_dialog=100)"
   ]
  },
  {
   "cell_type": "markdown",
   "metadata": {
    "colab_type": "text",
    "id": "AB-mDm0plQWd"
   },
   "source": [
    "To compare several models:"
   ]
  },
  {
   "cell_type": "code",
   "execution_count": 0,
   "metadata": {
    "colab": {},
    "colab_type": "code",
    "id": "GKe_DNJUlWzh"
   },
   "outputs": [],
   "source": [
    "set_seed(20200131)\n",
    "analyzer.compare_models(agent_list=[sys_agent1, sys_agent2], model_name=['sys_agent1', 'sys_agent2'], total_dialog=100)"
   ]
  }
 ],
 "metadata": {
  "colab": {
   "collapsed_sections": [],
   "name": "Tutorial",
   "provenance": [],
   "toc_visible": true
  },
  "kernelspec": {
   "display_name": "Python 3",
   "language": "python",
   "name": "python3"
  },
  "language_info": {
   "codemirror_mode": {
    "name": "ipython",
    "version": 3
   },
   "file_extension": ".py",
   "mimetype": "text/x-python",
   "name": "python",
   "nbconvert_exporter": "python",
   "pygments_lexer": "ipython3",
   "version": "3.6.12"
  }
 },
 "nbformat": 4,
 "nbformat_minor": 1
}
